{
    "metadata": {
        "kernelspec": {
            "name": "SQL",
            "display_name": "SQL",
            "language": "sql"
        },
        "language_info": {
            "name": "sql",
            "version": ""
        }
    },
    "nbformat_minor": 2,
    "nbformat": 4,
    "cells": [
        {
            "cell_type": "markdown",
            "source": [
                "# **Create Sales Order**"
            ],
            "metadata": {
                "azdata_cell_guid": "dc7fc149-d552-490e-960a-a242e866a341"
            },
            "attachments": {}
        },
        {
            "cell_type": "code",
            "source": [
                "\r\n",
                "select Order_ID as CaseID,\r\n",
                " Customer_Name as Customer,\r\n",
                " Customer_Country,\r\n",
                " Customer_Type,\r\n",
                " Order_Value, \r\n",
                " Currency, \r\n",
                " concat(CONCAT(o.Order_Type,' - '), Order_Type_Description) as Order_type, \r\n",
                " Company_Code, \r\n",
                " Delivery_Block, \r\n",
                " Billing_Block,\r\n",
                " 'Create sales order' as Event_type,\r\n",
                " Cast(Creation_Date as datetime) + cast(Creation_Time as datetime) as Event_time,\r\n",
                " O.[User],\r\n",
                " Department,\r\n",
                " User_Type,\r\n",
                " Order_ID as Object_ID,\r\n",
                " 'Sales order' as Object_type,\r\n",
                " 'Main' as Event_cateogry\r\n",
                "into O2C_Events_Create_sales_order\r\n",
                "from O2C_Entities_Orders o\r\n",
                "left join O2C_Master_Data_Customers c on o.Customer_ID=c.Customer_ID\r\n",
                "left join O2C_Master_Data_Order_Types ot on o.Order_Type=ot.Order_Type\r\n",
                "left join O2C_Master_Data_Users u on o.[User]=u.User_ID\r\n",
                "where Order_ID is not null;"
            ],
            "metadata": {
                "azdata_cell_guid": "09b4a784-df33-41f9-9da8-32c33d258d24",
                "language": "sql",
                "tags": []
            },
            "outputs": [
                {
                    "output_type": "display_data",
                    "data": {
                        "text/html": "(1902 rows affected)"
                    },
                    "metadata": {}
                },
                {
                    "output_type": "display_data",
                    "data": {
                        "text/html": "Total execution time: 00:00:00.461"
                    },
                    "metadata": {}
                }
            ],
            "execution_count": 56
        },
        {
            "cell_type": "markdown",
            "source": [
                "# **Requested delivery date**"
            ],
            "metadata": {
                "azdata_cell_guid": "e528c054-38a1-40a5-a98d-d93ff562b37f"
            },
            "attachments": {}
        },
        {
            "cell_type": "code",
            "source": [
                "select \r\n",
                "    Order_ID as CaseID,\r\n",
                "    '' as Customer,\r\n",
                "    '' as Customer_Country,\r\n",
                "    '' as Customer_Type,\r\n",
                "    '' as Order_Value,\r\n",
                "    '' as Currency,\r\n",
                "    '' as Order_Type,\r\n",
                "    '' as Company_Code,\r\n",
                "    '' as Delivery_Block,\r\n",
                "    '' as Billing_Block,\r\n",
                "    'Requested delivery date' as Event_type,\r\n",
                "    Cast(Creation_Date as datetime) + Cast('23:59:59' as datetime) as Event_time,\r\n",
                "    [User],\r\n",
                "    Department,\r\n",
                "    User_Type,\r\n",
                "    Order_ID as Object_ID,\r\n",
                "    'Sales order' as Object_type,\r\n",
                "    'Main' as Event_cateogry\r\n",
                "into O2C_Events_Requested_delivery_date  \r\n",
                "from O2C_Entities_Orders o\r\n",
                "left join O2C_Master_Data_Users u \r\n",
                "on o.[User]=u.User_ID \r\n",
                "where \r\n",
                "    Requested_Delivery_Date is not null"
            ],
            "metadata": {
                "azdata_cell_guid": "9a8e6f1e-7f7d-4f85-9321-57fdb98eed6c",
                "language": "sql",
                "tags": []
            },
            "outputs": [
                {
                    "output_type": "display_data",
                    "data": {
                        "text/html": "(1902 rows affected)"
                    },
                    "metadata": {}
                },
                {
                    "output_type": "display_data",
                    "data": {
                        "text/html": "Total execution time: 00:00:00.061"
                    },
                    "metadata": {}
                }
            ],
            "execution_count": 57
        },
        {
            "cell_type": "markdown",
            "source": [
                "# **Create delivery**"
            ],
            "metadata": {
                "language": "sql",
                "azdata_cell_guid": "f9ecfed3-a17e-4e03-a1c8-c81205a474cb"
            },
            "attachments": {}
        },
        {
            "cell_type": "code",
            "source": [
                "select \r\n",
                "    Order_ID as CaseID,\r\n",
                "    '' as Customer,\r\n",
                "    '' as Customer_Country,\r\n",
                "    '' as Customer_Type,\r\n",
                "    '' as Order_Value,\r\n",
                "    '' as Currency,\r\n",
                "    '' as Order_Type,\r\n",
                "    '' as Company_Code,\r\n",
                "    '' as Delivery_Block,\r\n",
                "    '' as Billing_Block,\r\n",
                "    'Create Delivery' as Event_type,\r\n",
                "    Cast(Created_Date as datetime) + cast(Created_Time as datetime) as Event_time,\r\n",
                "    d.[User],\r\n",
                "    Department,\r\n",
                "    User_Type,\r\n",
                "    Delivery_ID as Object_ID,\r\n",
                "    'Delivery' as Object_type,\r\n",
                "    'Main' as Event_cateogry\r\n",
                "into O2C_Events_Create_delivery\r\n",
                "from O2C_Entities_Delveries d\r\n",
                "left join O2C_Master_Data_Users u on d.[User]=u.User_ID\r\n",
                "WHERE\r\n",
                "    Delivery_ID is not null"
            ],
            "metadata": {
                "azdata_cell_guid": "134a13ac-2a52-4966-a80f-038d044e7fd5",
                "language": "sql",
                "tags": []
            },
            "outputs": [
                {
                    "output_type": "display_data",
                    "data": {
                        "text/html": "(616 rows affected)"
                    },
                    "metadata": {}
                },
                {
                    "output_type": "display_data",
                    "data": {
                        "text/html": "Total execution time: 00:00:00.065"
                    },
                    "metadata": {}
                }
            ],
            "execution_count": 58
        },
        {
            "cell_type": "markdown",
            "source": [
                "# **Create freight order**"
            ],
            "metadata": {
                "language": "sql",
                "azdata_cell_guid": "f67eda27-6f94-4156-b099-51adadf81426"
            },
            "attachments": {}
        },
        {
            "cell_type": "code",
            "source": [
                "select\r\n",
                "    Order_ID as CaseID,\r\n",
                "    '' as Customer,\r\n",
                "    '' as Customer_Country,\r\n",
                "    '' as Customer_Type,\r\n",
                "    '' as Order_Value,\r\n",
                "    '' as Currency,\r\n",
                "    '' as Order_Type,\r\n",
                "    '' as Company_Code,\r\n",
                "    '' as Delivery_Block,\r\n",
                "    '' as Billing_Block,\r\n",
                "    'Create freight order' as Event_type,\r\n",
                "    Cast(Created_at as datetime) + cast(Creation_Time as datetime) as Event_time,\r\n",
                "    f.[Created_by] as [User],\r\n",
                "    Department,\r\n",
                "    User_Type,\r\n",
                "    Freight_Order_ID as Object_ID,\r\n",
                "    'Freight Order' as Object_type,\r\n",
                "    'Main' as Event_cateogry\r\n",
                "into O2C_Events_Create_freight_order\r\n",
                "from O2C_Entities_FreightOrders f\r\n",
                "left join O2C_Master_Data_Users u on f.[Created_by]=u.User_ID\r\n",
                ""
            ],
            "metadata": {
                "language": "sql",
                "azdata_cell_guid": "8e83257c-4139-4b01-bba9-b17ffe7b9335"
            },
            "outputs": [
                {
                    "output_type": "display_data",
                    "data": {
                        "text/html": "(661 rows affected)"
                    },
                    "metadata": {}
                },
                {
                    "output_type": "display_data",
                    "data": {
                        "text/html": "Total execution time: 00:00:00.069"
                    },
                    "metadata": {}
                }
            ],
            "execution_count": 59
        },
        {
            "cell_type": "markdown",
            "source": [
                "# **Goods issue is created**"
            ],
            "metadata": {
                "language": "sql",
                "azdata_cell_guid": "9b4aedc5-79ef-4e88-8690-8d0bc61cf1fe"
            },
            "attachments": {}
        },
        {
            "cell_type": "code",
            "source": [
                "select \r\n",
                "    Order_ID as CaseID,\r\n",
                "    '' as Customer,\r\n",
                "    '' as Customer_Country,\r\n",
                "    '' as Customer_Type,\r\n",
                "    '' as Order_Value,\r\n",
                "    '' as Currency,\r\n",
                "    '' as Order_Type,\r\n",
                "    '' as Company_Code,\r\n",
                "    '' as Delivery_Block,\r\n",
                "    '' as Billing_Block,\r\n",
                "    'Goods issue is created' as Event_type,\r\n",
                "    Cast(Creation_date as datetime) + cast(Creation_Time as datetime) as Event_time,\r\n",
                "    'No user information' as [User],\r\n",
                "    '' as Department,\r\n",
                "    '' as User_Type,\r\n",
                "    Goods_Issue_ID as Object_ID,\r\n",
                "    'Goods issue' as Object_type,\r\n",
                "    'Main' as Event_cateogry \r\n",
                "into O2C_Events_Goods_issue_is_created\r\n",
                "from O2C_Entities_GoodsIssued"
            ],
            "metadata": {
                "language": "sql",
                "azdata_cell_guid": "718fc962-4f7d-41a9-a7b2-49980fe495b7"
            },
            "outputs": [
                {
                    "output_type": "display_data",
                    "data": {
                        "text/html": "(1034 rows affected)"
                    },
                    "metadata": {}
                },
                {
                    "output_type": "display_data",
                    "data": {
                        "text/html": "Total execution time: 00:00:00.066"
                    },
                    "metadata": {}
                }
            ],
            "execution_count": 60
        },
        {
            "cell_type": "markdown",
            "source": [
                "# **Create Invoice**"
            ],
            "metadata": {
                "language": "sql",
                "azdata_cell_guid": "316129f1-c757-486b-b7ba-dc0e6f7f90bb"
            },
            "attachments": {}
        },
        {
            "cell_type": "code",
            "source": [
                "select \r\n",
                "    Order_ID as CaseID,\r\n",
                "    '' as Customer,\r\n",
                "    '' as Customer_Country,\r\n",
                "    '' as Customer_Type,\r\n",
                "    '' as Order_Value,\r\n",
                "    '' as Currency,\r\n",
                "    '' as Order_Type,\r\n",
                "    '' as Company_Code,\r\n",
                "    '' as Delivery_Block,\r\n",
                "    '' as Billing_Block, \r\n",
                "    'Create invoice' as Event_type,\r\n",
                "    Invoice_Date as Event_time,\r\n",
                "    Created_by as [User],\r\n",
                "    Department,\r\n",
                "    User_Type,\r\n",
                "    Invoice_ID as Object_ID,\r\n",
                "    'Invoice' as Object_type,\r\n",
                "    'Main' as Event_cateogry\r\n",
                "into O2C_Events_Create_invoice \r\n",
                "from O2C_Entities_Invoices i\r\n",
                "left join O2C_Master_Data_Users u on i.[Created_by]=u.User_ID"
            ],
            "metadata": {
                "language": "sql",
                "azdata_cell_guid": "59a2d80d-698b-451a-907d-6ea79da86c5c"
            },
            "outputs": [
                {
                    "output_type": "display_data",
                    "data": {
                        "text/html": "(644 rows affected)"
                    },
                    "metadata": {}
                },
                {
                    "output_type": "display_data",
                    "data": {
                        "text/html": "Total execution time: 00:00:00.070"
                    },
                    "metadata": {}
                }
            ],
            "execution_count": 61
        },
        {
            "cell_type": "markdown",
            "source": [
                "# **Invoice is paid**"
            ],
            "metadata": {
                "language": "sql",
                "azdata_cell_guid": "7b9b86d5-a085-4936-a9b2-e1c77dad361a"
            },
            "attachments": {}
        },
        {
            "cell_type": "code",
            "source": [
                "select \r\n",
                "    Order_ID as CaseID,\r\n",
                "    '' as Customer,\r\n",
                "    '' as Customer_Country,\r\n",
                "    '' as Customer_Type,\r\n",
                "    '' as Order_Value,\r\n",
                "    '' as Currency,\r\n",
                "    '' as Order_Type,\r\n",
                "    '' as Company_Code,\r\n",
                "    '' as Delivery_Block,\r\n",
                "    '' as Billing_Block, \r\n",
                "    'Invoice is paid' as Event_type,\r\n",
                "    cast(Payment_date as datetime) + cast('23:59:59' as datetime) as Event_time,\r\n",
                "    Payment_booked_by as [User],\r\n",
                "    Department,\r\n",
                "    User_Type,\r\n",
                "    Invoice_ID as Object_ID,\r\n",
                "    'Invoice' as Object_type,\r\n",
                "    'Main' as Event_cateogry\r\n",
                "into O2C_Events_Invoice_is_paid \r\n",
                "from O2C_Entities_Invoices i\r\n",
                "left join O2C_Master_Data_Users u on i.[Payment_booked_by]=u.User_ID\r\n",
                "where Payment_date is not null"
            ],
            "metadata": {
                "language": "sql",
                "azdata_cell_guid": "1ddf4121-03aa-4964-9f5e-188e5d8ea394"
            },
            "outputs": [
                {
                    "output_type": "display_data",
                    "data": {
                        "text/html": "(356 rows affected)"
                    },
                    "metadata": {}
                },
                {
                    "output_type": "display_data",
                    "data": {
                        "text/html": "Total execution time: 00:00:00.074"
                    },
                    "metadata": {}
                }
            ],
            "execution_count": 62
        },
        {
            "cell_type": "markdown",
            "source": [
                "# **Change events**"
            ],
            "metadata": {
                "language": "sql",
                "azdata_cell_guid": "32e16469-59bc-4fc6-822d-8825791ed29d"
            },
            "attachments": {}
        },
        {
            "cell_type": "code",
            "source": [
                "select distinct [Object] from O2C_ChangeLog"
            ],
            "metadata": {
                "language": "sql",
                "azdata_cell_guid": "3c2dfff2-ee62-4d15-8527-a14830544645"
            },
            "outputs": [
                {
                    "output_type": "display_data",
                    "data": {
                        "text/html": "(4 rows affected)"
                    },
                    "metadata": {}
                },
                {
                    "output_type": "display_data",
                    "data": {
                        "text/html": "Total execution time: 00:00:00.057"
                    },
                    "metadata": {}
                },
                {
                    "output_type": "execute_result",
                    "execution_count": 70,
                    "data": {
                        "application/vnd.dataresource+json": {
                            "schema": {
                                "fields": [
                                    {
                                        "name": "Object"
                                    }
                                ]
                            },
                            "data": [
                                {
                                    "Object": "Delivery document"
                                },
                                {
                                    "Object": "Freight order"
                                },
                                {
                                    "Object": "Invoice"
                                },
                                {
                                    "Object": "Sales document"
                                }
                            ]
                        },
                        "text/html": "<table><tr><th>Object</th></tr><tr><td>Delivery document</td></tr><tr><td>Freight order</td></tr><tr><td>Invoice</td></tr><tr><td>Sales document</td></tr></table>"
                    },
                    "metadata": {}
                }
            ],
            "execution_count": 70
        },
        {
            "cell_type": "markdown",
            "source": [
                "## Change sales order"
            ],
            "metadata": {
                "language": "sql",
                "azdata_cell_guid": "bd3818d4-b307-4d7a-9355-015abc3a26d7"
            },
            "attachments": {}
        },
        {
            "cell_type": "code",
            "source": [
                "select Object_ID as CaseID,\r\n",
                "    '' as Customer,\r\n",
                "    '' as Customer_Country,\r\n",
                "    '' as Customer_Type,\r\n",
                "    '' as Order_Value,\r\n",
                "    '' as Currency,\r\n",
                "    '' as Order_Type,\r\n",
                "    '' as Company_Code,\r\n",
                "    '' as Delivery_Block,\r\n",
                "    '' as Billing_Block, \r\n",
                "    'Sales order is changed' as Event_type,\r\n",
                "    [Timestamp] as Event_time,\r\n",
                "    c.[User],\r\n",
                "    Department,\r\n",
                "    User_Type,\r\n",
                "    Object_ID as Object_ID,\r\n",
                "    'Sales order' as Object_type,\r\n",
                "    'Change' as Event_cateogry \r\n",
                "into O2C_Events_Change_Sales_order\r\n",
                "from O2C_ChangeLog c\r\n",
                "left join O2C_Master_Data_Users u on c.[User]=u.User_ID\r\n",
                "where [Object]='Sales document'"
            ],
            "metadata": {
                "language": "sql",
                "azdata_cell_guid": "92e64ac7-bdb2-42ff-9a01-9b868adb8a85",
                "tags": [
                    "hide_input"
                ]
            },
            "outputs": [
                {
                    "output_type": "display_data",
                    "data": {
                        "text/html": "(46 rows affected)"
                    },
                    "metadata": {}
                },
                {
                    "output_type": "display_data",
                    "data": {
                        "text/html": "Total execution time: 00:00:00.072"
                    },
                    "metadata": {}
                }
            ],
            "execution_count": 71
        },
        {
            "cell_type": "markdown",
            "source": [
                "## Change delivery"
            ],
            "metadata": {
                "language": "sql",
                "azdata_cell_guid": "26a8d0d7-533d-44a7-9871-a3bb32e753f5"
            },
            "attachments": {}
        },
        {
            "cell_type": "code",
            "source": [
                "select Order_ID as CaseID,\r\n",
                "    '' as Customer,\r\n",
                "    '' as Customer_Country,\r\n",
                "    '' as Customer_Type,\r\n",
                "    '' as Order_Value,\r\n",
                "    '' as Currency,\r\n",
                "    '' as Order_Type,\r\n",
                "    '' as Company_Code,\r\n",
                "    '' as Delivery_Block,\r\n",
                "    '' as Billing_Block, \r\n",
                "    'Delivery is changed' as Event_type,\r\n",
                "    [Timestamp] as Event_time,\r\n",
                "    c.[User],\r\n",
                "    Department,\r\n",
                "    User_Type,\r\n",
                "    Object_ID as Object_ID,\r\n",
                "    'Delivery' as Object_type,\r\n",
                "    'Change' as Event_cateogry \r\n",
                "into O2C_Events_Change_Delivery\r\n",
                "from O2C_ChangeLog c\r\n",
                "left join O2C_Entities_Delveries d on c.Object_ID=d.Delivery_ID\r\n",
                "left join O2C_Master_Data_Users u on c.[User]=u.User_ID\r\n",
                "where [Object]='Delivery document'"
            ],
            "metadata": {
                "language": "sql",
                "azdata_cell_guid": "915032cb-d095-4a15-82f0-83f1337db397"
            },
            "outputs": [
                {
                    "output_type": "display_data",
                    "data": {
                        "text/html": "(55 rows affected)"
                    },
                    "metadata": {}
                },
                {
                    "output_type": "display_data",
                    "data": {
                        "text/html": "Total execution time: 00:00:00.065"
                    },
                    "metadata": {}
                }
            ],
            "execution_count": 72
        },
        {
            "cell_type": "markdown",
            "source": [
                "## Change freight order"
            ],
            "metadata": {
                "language": "sql",
                "azdata_cell_guid": "dedff965-17a0-457f-8d53-b6f5c6fa1696"
            },
            "attachments": {}
        },
        {
            "cell_type": "code",
            "source": [
                "select Order_ID as CaseID,\r\n",
                "    '' as Customer,\r\n",
                "    '' as Customer_Country,\r\n",
                "    '' as Customer_Type,\r\n",
                "    '' as Order_Value,\r\n",
                "    '' as Currency,\r\n",
                "    '' as Order_Type,\r\n",
                "    '' as Company_Code,\r\n",
                "    '' as Delivery_Block,\r\n",
                "    '' as Billing_Block, \r\n",
                "    'Freight order is changed' as Event_type,\r\n",
                "    [Timestamp] as Event_time,\r\n",
                "    c.[User],\r\n",
                "    Department,\r\n",
                "    User_Type,\r\n",
                "    Object_ID as Object_ID,\r\n",
                "    'Freight order' as Object_type,\r\n",
                "    'Change' as Event_cateogry \r\n",
                "into O2C_Events_Change_FreightOrder\r\n",
                "from O2C_ChangeLog c\r\n",
                "left join O2C_Entities_FreightOrders f on c.Object_ID=f.Freight_Order_ID\r\n",
                "left join O2C_Master_Data_Users u on c.[User]=u.User_ID\r\n",
                "where [Object]='Freight order'"
            ],
            "metadata": {
                "language": "sql",
                "azdata_cell_guid": "d37aaa2e-bbbd-47b1-90c2-37d9afe46629"
            },
            "outputs": [
                {
                    "output_type": "display_data",
                    "data": {
                        "text/html": "(46 rows affected)"
                    },
                    "metadata": {}
                },
                {
                    "output_type": "display_data",
                    "data": {
                        "text/html": "Total execution time: 00:00:00.063"
                    },
                    "metadata": {}
                }
            ],
            "execution_count": 73
        },
        {
            "cell_type": "markdown",
            "source": [
                "## Change invoice"
            ],
            "metadata": {
                "language": "sql",
                "azdata_cell_guid": "abeb596e-c90c-41de-8744-4cedb6a00546"
            },
            "attachments": {}
        },
        {
            "cell_type": "code",
            "source": [
                "select Order_ID as CaseID,\r\n",
                "    '' as Customer,\r\n",
                "    '' as Customer_Country,\r\n",
                "    '' as Customer_Type,\r\n",
                "    '' as Order_Value,\r\n",
                "    '' as Currency,\r\n",
                "    '' as Order_Type,\r\n",
                "    '' as Company_Code,\r\n",
                "    '' as Delivery_Block,\r\n",
                "    '' as Billing_Block, \r\n",
                "    'Invoice is changed' as Event_type,\r\n",
                "    [Timestamp] as Event_time,\r\n",
                "    c.[User],\r\n",
                "    Department,\r\n",
                "    User_Type,\r\n",
                "    Object_ID as Object_ID,\r\n",
                "    'Invoice' as Object_type,\r\n",
                "    'Change' as Event_cateogry \r\n",
                "into O2C_Events_Change_Invoice\r\n",
                "from O2C_ChangeLog c\r\n",
                "left join O2C_Entities_Invoices i on c.Object_ID=i.Invoice_ID\r\n",
                "left join O2C_Master_Data_Users u on c.[User]=u.User_ID\r\n",
                "where [Object]='Invoice' and Order_ID is not null"
            ],
            "metadata": {
                "language": "sql",
                "azdata_cell_guid": "099aed5e-0410-438e-9922-5f803e97ec0c"
            },
            "outputs": [
                {
                    "output_type": "display_data",
                    "data": {
                        "text/html": "(19 rows affected)"
                    },
                    "metadata": {}
                },
                {
                    "output_type": "display_data",
                    "data": {
                        "text/html": "Total execution time: 00:00:00.066"
                    },
                    "metadata": {}
                }
            ],
            "execution_count": 74
        },
        {
            "cell_type": "markdown",
            "source": [
                "# **Final event table creation**"
            ],
            "metadata": {
                "language": "sql",
                "azdata_cell_guid": "68d6204e-f975-4691-b9a5-2f6a13e177db"
            },
            "attachments": {}
        },
        {
            "cell_type": "code",
            "source": [
                "select * \r\n",
                "into O2C_Eventlog\r\n",
                "from (\r\n",
                "select * from O2C_Events_Create_sales_order\r\n",
                "union all\r\n",
                "select * from O2C_Events_Requested_delivery_date\r\n",
                "union all\r\n",
                "select * from O2C_Events_Create_delivery\r\n",
                "union all\r\n",
                "select * from O2C_Events_Create_freight_order\r\n",
                "union all\r\n",
                "select * from O2C_Events_Goods_issue_is_created\r\n",
                "union all\r\n",
                "select * from O2C_Events_Create_invoice\r\n",
                "union all\r\n",
                "select * from O2C_Events_Invoice_is_paid\r\n",
                "union all\r\n",
                "select * from O2C_Events_Change_Sales_order\r\n",
                "union all\r\n",
                "select * from O2C_Events_Change_Delivery\r\n",
                "union all\r\n",
                "select * from O2C_Events_Change_FreightOrder\r\n",
                "union all\r\n",
                "select * from O2C_Events_Change_Invoice) as CombinedEvents"
            ],
            "metadata": {
                "language": "sql",
                "azdata_cell_guid": "114108c4-aa33-499d-8a9d-e8a0714600dc"
            },
            "outputs": [
                {
                    "output_type": "display_data",
                    "data": {
                        "text/html": "(7281 rows affected)"
                    },
                    "metadata": {}
                },
                {
                    "output_type": "display_data",
                    "data": {
                        "text/html": "Total execution time: 00:00:00.225"
                    },
                    "metadata": {}
                }
            ],
            "execution_count": 75
        },
        {
            "cell_type": "code",
            "source": [
                "select * from O2C_Eventlog where caseid='Order - 0026' order by event_time, CaseID "
            ],
            "metadata": {
                "language": "sql",
                "azdata_cell_guid": "8cc7de93-0a2c-40e2-af78-ac44a2a86fb7"
            },
            "outputs": [
                {
                    "output_type": "display_data",
                    "data": {
                        "text/html": "(8 rows affected)"
                    },
                    "metadata": {}
                },
                {
                    "output_type": "display_data",
                    "data": {
                        "text/html": "Total execution time: 00:00:00.075"
                    },
                    "metadata": {}
                },
                {
                    "output_type": "execute_result",
                    "execution_count": 76,
                    "data": {
                        "application/vnd.dataresource+json": {
                            "schema": {
                                "fields": [
                                    {
                                        "name": "CaseID"
                                    },
                                    {
                                        "name": "Customer"
                                    },
                                    {
                                        "name": "Customer_Country"
                                    },
                                    {
                                        "name": "Customer_Type"
                                    },
                                    {
                                        "name": "Order_Value"
                                    },
                                    {
                                        "name": "Currency"
                                    },
                                    {
                                        "name": "Order_type"
                                    },
                                    {
                                        "name": "Company_Code"
                                    },
                                    {
                                        "name": "Delivery_Block"
                                    },
                                    {
                                        "name": "Billing_Block"
                                    },
                                    {
                                        "name": "Event_type"
                                    },
                                    {
                                        "name": "Event_time"
                                    },
                                    {
                                        "name": "User"
                                    },
                                    {
                                        "name": "Department"
                                    },
                                    {
                                        "name": "User_Type"
                                    },
                                    {
                                        "name": "Object_ID"
                                    },
                                    {
                                        "name": "Object_type"
                                    },
                                    {
                                        "name": "Event_cateogry"
                                    }
                                ]
                            },
                            "data": [
                                {
                                    "CaseID": "Order - 0026",
                                    "Customer": "Customer 11",
                                    "Customer_Country": "DE",
                                    "Customer_Type": "External",
                                    "Order_Value": "15573.740234375",
                                    "Currency": "EUR",
                                    "Order_type": "SO - Standard Order",
                                    "Company_Code": "Company 1",
                                    "Delivery_Block": "NULL",
                                    "Billing_Block": "NULL",
                                    "Event_type": "Create sales order",
                                    "Event_time": "2023-05-31 13:35:32.0000000",
                                    "User": "USER - 03676",
                                    "Department": "Department 751",
                                    "User_Type": "Manual",
                                    "Object_ID": "Order - 0026",
                                    "Object_type": "Sales order",
                                    "Event_cateogry": "Main"
                                },
                                {
                                    "CaseID": "Order - 0026",
                                    "Customer": "",
                                    "Customer_Country": "",
                                    "Customer_Type": "",
                                    "Order_Value": "0",
                                    "Currency": "",
                                    "Order_type": "",
                                    "Company_Code": "",
                                    "Delivery_Block": "",
                                    "Billing_Block": "",
                                    "Event_type": "Create Delivery",
                                    "Event_time": "2023-05-31 13:39:51.0000000",
                                    "User": "USER - 03676",
                                    "Department": "Department 751",
                                    "User_Type": "Manual",
                                    "Object_ID": "Delivery - 0010",
                                    "Object_type": "Delivery",
                                    "Event_cateogry": "Main"
                                },
                                {
                                    "CaseID": "Order - 0026",
                                    "Customer": "",
                                    "Customer_Country": "",
                                    "Customer_Type": "",
                                    "Order_Value": "0",
                                    "Currency": "",
                                    "Order_type": "",
                                    "Company_Code": "",
                                    "Delivery_Block": "",
                                    "Billing_Block": "",
                                    "Event_type": "Create freight order",
                                    "Event_time": "2023-05-31 13:41:59.0000000",
                                    "User": "USER - 03676",
                                    "Department": "Department 751",
                                    "User_Type": "Manual",
                                    "Object_ID": "FREIGHT - 00018",
                                    "Object_type": "Freight Order",
                                    "Event_cateogry": "Main"
                                },
                                {
                                    "CaseID": "Order - 0026",
                                    "Customer": "",
                                    "Customer_Country": "",
                                    "Customer_Type": "",
                                    "Order_Value": "0",
                                    "Currency": "",
                                    "Order_type": "",
                                    "Company_Code": "",
                                    "Delivery_Block": "",
                                    "Billing_Block": "",
                                    "Event_type": "Goods issue is created",
                                    "Event_time": "2023-05-31 13:43:23.0000000",
                                    "User": "No user information",
                                    "Department": "",
                                    "User_Type": "",
                                    "Object_ID": "GI - 000023",
                                    "Object_type": "Goods issue",
                                    "Event_cateogry": "Main"
                                },
                                {
                                    "CaseID": "Order - 0026",
                                    "Customer": "",
                                    "Customer_Country": "",
                                    "Customer_Type": "",
                                    "Order_Value": "0",
                                    "Currency": "",
                                    "Order_type": "",
                                    "Company_Code": "",
                                    "Delivery_Block": "",
                                    "Billing_Block": "",
                                    "Event_type": "Create invoice",
                                    "Event_time": "2023-05-31 22:02:00.0000000",
                                    "User": "USER - 07897",
                                    "Department": "NULL",
                                    "User_Type": "Automatic",
                                    "Object_ID": "Invoice - 009",
                                    "Object_type": "Invoice",
                                    "Event_cateogry": "Main"
                                },
                                {
                                    "CaseID": "Order - 0026",
                                    "Customer": "",
                                    "Customer_Country": "",
                                    "Customer_Type": "",
                                    "Order_Value": "0",
                                    "Currency": "",
                                    "Order_type": "",
                                    "Company_Code": "",
                                    "Delivery_Block": "",
                                    "Billing_Block": "",
                                    "Event_type": "Requested delivery date",
                                    "Event_time": "2023-05-31 23:59:59.0000000",
                                    "User": "USER - 03676",
                                    "Department": "Department 751",
                                    "User_Type": "Manual",
                                    "Object_ID": "Order - 0026",
                                    "Object_type": "Sales order",
                                    "Event_cateogry": "Main"
                                },
                                {
                                    "CaseID": "Order - 0026",
                                    "Customer": "",
                                    "Customer_Country": "",
                                    "Customer_Type": "",
                                    "Order_Value": "0",
                                    "Currency": "",
                                    "Order_type": "",
                                    "Company_Code": "",
                                    "Delivery_Block": "",
                                    "Billing_Block": "",
                                    "Event_type": "Invoice is changed",
                                    "Event_time": "2023-06-01 07:24:00.0000000",
                                    "User": "USER - 04201",
                                    "Department": "Department 1601",
                                    "User_Type": "Manual",
                                    "Object_ID": "Invoice - 009",
                                    "Object_type": "Invoice",
                                    "Event_cateogry": "Change"
                                },
                                {
                                    "CaseID": "Order - 0026",
                                    "Customer": "",
                                    "Customer_Country": "",
                                    "Customer_Type": "",
                                    "Order_Value": "0",
                                    "Currency": "",
                                    "Order_type": "",
                                    "Company_Code": "",
                                    "Delivery_Block": "",
                                    "Billing_Block": "",
                                    "Event_type": "Invoice is paid",
                                    "Event_time": "2023-06-29 23:59:59.0000000",
                                    "User": "USER - 04201",
                                    "Department": "Department 1601",
                                    "User_Type": "Manual",
                                    "Object_ID": "Invoice - 009",
                                    "Object_type": "Invoice",
                                    "Event_cateogry": "Main"
                                }
                            ]
                        },
                        "text/html": "<table><tr><th>CaseID</th><th>Customer</th><th>Customer_Country</th><th>Customer_Type</th><th>Order_Value</th><th>Currency</th><th>Order_type</th><th>Company_Code</th><th>Delivery_Block</th><th>Billing_Block</th><th>Event_type</th><th>Event_time</th><th>User</th><th>Department</th><th>User_Type</th><th>Object_ID</th><th>Object_type</th><th>Event_cateogry</th></tr><tr><td>Order - 0026</td><td>Customer 11</td><td>DE</td><td>External</td><td>15573.740234375</td><td>EUR</td><td>SO - Standard Order</td><td>Company 1</td><td>NULL</td><td>NULL</td><td>Create sales order</td><td>2023-05-31 13:35:32.0000000</td><td>USER - 03676</td><td>Department 751</td><td>Manual</td><td>Order - 0026</td><td>Sales order</td><td>Main</td></tr><tr><td>Order - 0026</td><td></td><td></td><td></td><td>0</td><td></td><td></td><td></td><td></td><td></td><td>Create Delivery</td><td>2023-05-31 13:39:51.0000000</td><td>USER - 03676</td><td>Department 751</td><td>Manual</td><td>Delivery - 0010</td><td>Delivery</td><td>Main</td></tr><tr><td>Order - 0026</td><td></td><td></td><td></td><td>0</td><td></td><td></td><td></td><td></td><td></td><td>Create freight order</td><td>2023-05-31 13:41:59.0000000</td><td>USER - 03676</td><td>Department 751</td><td>Manual</td><td>FREIGHT - 00018</td><td>Freight Order</td><td>Main</td></tr><tr><td>Order - 0026</td><td></td><td></td><td></td><td>0</td><td></td><td></td><td></td><td></td><td></td><td>Goods issue is created</td><td>2023-05-31 13:43:23.0000000</td><td>No user information</td><td></td><td></td><td>GI - 000023</td><td>Goods issue</td><td>Main</td></tr><tr><td>Order - 0026</td><td></td><td></td><td></td><td>0</td><td></td><td></td><td></td><td></td><td></td><td>Create invoice</td><td>2023-05-31 22:02:00.0000000</td><td>USER - 07897</td><td>NULL</td><td>Automatic</td><td>Invoice - 009</td><td>Invoice</td><td>Main</td></tr><tr><td>Order - 0026</td><td></td><td></td><td></td><td>0</td><td></td><td></td><td></td><td></td><td></td><td>Requested delivery date</td><td>2023-05-31 23:59:59.0000000</td><td>USER - 03676</td><td>Department 751</td><td>Manual</td><td>Order - 0026</td><td>Sales order</td><td>Main</td></tr><tr><td>Order - 0026</td><td></td><td></td><td></td><td>0</td><td></td><td></td><td></td><td></td><td></td><td>Invoice is changed</td><td>2023-06-01 07:24:00.0000000</td><td>USER - 04201</td><td>Department 1601</td><td>Manual</td><td>Invoice - 009</td><td>Invoice</td><td>Change</td></tr><tr><td>Order - 0026</td><td></td><td></td><td></td><td>0</td><td></td><td></td><td></td><td></td><td></td><td>Invoice is paid</td><td>2023-06-29 23:59:59.0000000</td><td>USER - 04201</td><td>Department 1601</td><td>Manual</td><td>Invoice - 009</td><td>Invoice</td><td>Main</td></tr></table>"
                    },
                    "metadata": {}
                }
            ],
            "execution_count": 76
        },
        {
            "cell_type": "code",
            "source": [
                "select * from O2C_Entities_Orders where Order_ID='Order - 0026'"
            ],
            "metadata": {
                "language": "sql",
                "azdata_cell_guid": "296bdee1-92bd-4b18-b697-8580685c9de9"
            },
            "outputs": [
                {
                    "output_type": "display_data",
                    "data": {
                        "text/html": "(1 row affected)"
                    },
                    "metadata": {}
                },
                {
                    "output_type": "display_data",
                    "data": {
                        "text/html": "Total execution time: 00:00:00.046"
                    },
                    "metadata": {}
                },
                {
                    "output_type": "execute_result",
                    "execution_count": 77,
                    "data": {
                        "application/vnd.dataresource+json": {
                            "schema": {
                                "fields": [
                                    {
                                        "name": "Order_ID"
                                    },
                                    {
                                        "name": "Creation_Date"
                                    },
                                    {
                                        "name": "Creation_Time"
                                    },
                                    {
                                        "name": "Customer_ID"
                                    },
                                    {
                                        "name": "Order_Value"
                                    },
                                    {
                                        "name": "Currency"
                                    },
                                    {
                                        "name": "Order_Type"
                                    },
                                    {
                                        "name": "User"
                                    },
                                    {
                                        "name": "Requested_Delivery_Date"
                                    },
                                    {
                                        "name": "Delivery_Block"
                                    },
                                    {
                                        "name": "Billing_Block"
                                    },
                                    {
                                        "name": "Company_Code"
                                    }
                                ]
                            },
                            "data": [
                                {
                                    "Order_ID": "Order - 0026",
                                    "Creation_Date": "2023-05-31",
                                    "Creation_Time": "13:35:32",
                                    "Customer_ID": "CUST - 011",
                                    "Order_Value": "15573.740234375",
                                    "Currency": "EUR",
                                    "Order_Type": "SO",
                                    "User": "USER - 03676",
                                    "Requested_Delivery_Date": "2023-06-01",
                                    "Delivery_Block": "NULL",
                                    "Billing_Block": "NULL",
                                    "Company_Code": "Company 1"
                                }
                            ]
                        },
                        "text/html": "<table><tr><th>Order_ID</th><th>Creation_Date</th><th>Creation_Time</th><th>Customer_ID</th><th>Order_Value</th><th>Currency</th><th>Order_Type</th><th>User</th><th>Requested_Delivery_Date</th><th>Delivery_Block</th><th>Billing_Block</th><th>Company_Code</th></tr><tr><td>Order - 0026</td><td>2023-05-31</td><td>13:35:32</td><td>CUST - 011</td><td>15573.740234375</td><td>EUR</td><td>SO</td><td>USER - 03676</td><td>2023-06-01</td><td>NULL</td><td>NULL</td><td>Company 1</td></tr></table>"
                    },
                    "metadata": {}
                }
            ],
            "execution_count": 77
        }
    ]
}