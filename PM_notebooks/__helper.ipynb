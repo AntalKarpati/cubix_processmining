{
    "metadata": {
        "kernelspec": {
            "name": "SQL",
            "display_name": "SQL",
            "language": "sql"
        },
        "language_info": {
            "name": "sql",
            "version": ""
        }
    },
    "nbformat_minor": 2,
    "nbformat": 4,
    "cells": [
        {
            "cell_type": "markdown",
            "source": [
                "### **1\\. IntelliSense Frissítése**\n",
                "\n",
                "Az IntelliSense néha nem tudja automatikusan frissíteni az aktív adatbázist. Kényszerítsd az IntelliSense újratöltését:\n",
                "\n",
                "1. Nyisd meg a Command Palette-et (Ctrl+Shift+P vagy Cmd+Shift+P Mac-en).\n",
                "2. Írd be: **\"IntelliSense: Refresh IntelliSense Cache\"**.\n",
                "3. Válaszd ki az opciót, és várj néhány másodpercet.\n",
                "\n",
                "Ez frissíti a táblaneveket és az aktuális adatbázis kontextust, ami gyakran megoldja az aláhúzások problémáját."
            ],
            "metadata": {
                "language": "sql",
                "azdata_cell_guid": "e94eaddd-5f65-4da5-8c48-22377cca3573"
            },
            "attachments": {}
        },
        {
            "cell_type": "markdown",
            "source": [
                "Íme egy **SQL** példa egy komplex adattranszformációra, amely magában foglalja több táblát, `JOIN`\\-okat, `WINDOW` függvényeket, `TEMPORARY VIEW`\\-kat és néhány **best practice** megoldást.\n",
                "\n",
                "### Feladat\n",
                "\n",
                "Van egy adatbázisunk az alábbi sémával:\n",
                "\n",
                "1. **customers**: az ügyfelek adatai\n",
                "    - `customer_id`, `name`, `signup_date`, `country`\n",
                "2. **orders**: a rendelések adatai\n",
                "    - `order_id`, `customer_id`, `order_date`, `total_amount`\n",
                "3. **products**: a termékek adatai\n",
                "    - `product_id`, `product_name`, `category`\n",
                "4. **order\\_details**: egy rendelésen belül a termékek részletei\n",
                "    - `order_id`, `product_id`, `quantity`, `price_per_unit`\n",
                "\n",
                "A cél:\n",
                "\n",
                "- Készíts egy elemzést, amely megmutatja:\n",
                "    1. Minden ügyfél összesített költését és a legutóbbi rendelésük időpontját.\n",
                "    2. Az ügyfelek országonkénti összesített költését.\n",
                "    3. A legnépszerűbb termékkategóriát az egyes ügyfelek esetében (legtöbbször rendelt kategória).\n",
                "\n",
                "### SQL megoldás\n",
                "\n",
                "#### Lépések:\n",
                "\n",
                "1. Hozunk létre **TEMPORARY VIEW**\\-kat a tranzformáció különböző szakaszaihoz, hogy a kód olvashatóbb és karbantarthatóbb legyen.\n",
                "2. Az `INNER JOIN` segítségével összekapcsoljuk a táblákat.\n",
                "3. `WINDOW FUNCTIONS`\\-t használunk az ügyfelek és kategóriák aggregálására.\n",
                "4. Alkalmazzuk a best practice-eket:\n",
                "    - Aliasok használata.\n",
                "    - Kommentek a kód fontos részeinél.\n",
                "    - Modularitás (view-k)."
            ],
            "metadata": {
                "language": "sql",
                "azdata_cell_guid": "d5f9486c-eb0e-4808-8e86-19c3cdd438df"
            },
            "attachments": {}
        },
        {
            "cell_type": "markdown",
            "source": [
                "### Magyarázat\n",
                "\n",
                "1. **`TEMPORARY VIEW` használata**:\n",
                "    \n",
                "    - A különböző részfeladatokhoz létrehoztunk view-kat (`customer_orders`, `customer_order_details`, stb.). Ez modulárisabbá teszi a kódot, így könnyebb tesztelni és módosítani.\n",
                "2. **`JOIN` műveletek**:\n",
                "    \n",
                "    - Az `INNER JOIN` kapcsolja össze az ügyfeleket a rendeléseikkel, majd a rendelési részleteket a termékekkel.\n",
                "3. **`WINDOW FUNCTION` használata**:\n",
                "    \n",
                "    - A `RANK()` függvényt a kategóriák rangsorolására használtuk az ügyfelek számára, hogy megtaláljuk a legnépszerűbb kategóriát.\n",
                "4. **Best practice-ek**:\n",
                "    \n",
                "    - `AS` aliasok használata az oszlopnevek és táblanevek egyértelműsítésére.\n",
                "    - Kód modularizálása `VIEW`\\-kkal, ami segíti az olvashatóságot és újrafelhasználhatóságot.\n",
                "    - Az `LEFT JOIN`\\-nal biztosítottuk, hogy minden ügyfél bekerüljön a végső riportba, még akkor is, ha nincs adat egyes csatlakoztatott táblákból.\n",
                "5. **Final output**:  \n",
                "    \n",
                "    - Az ügyfelek költései, legutóbbi rendelési időpontja, top kategóriája, és országonkénti költések mind egy helyen jelennek meg."
            ],
            "metadata": {
                "language": "sql",
                "azdata_cell_guid": "e922a05e-66ec-4f54-800a-2989544b73df"
            },
            "attachments": {}
        },
        {
            "cell_type": "code",
            "source": [
                "-- CREATE DATABASE TestDatabase;\n",
                "-- GO\n",
                "\n",
                "USE [TestDatabase];  -- Switch to the desired database\n",
                "GO\n",
                "\n",
                "\n",
                "\n",
                "-- Verify current database\n",
                "SELECT DB_NAME() AS CurrentDatabase;\n",
                ""
            ],
            "metadata": {
                "language": "sql",
                "azdata_cell_guid": "63e85eb2-1e23-4621-96b3-b52f1bde87dd"
            },
            "outputs": [
                {
                    "output_type": "error",
                    "evalue": "Msg 319, Level 15, State 1, Line 4\nIncorrect syntax near the keyword 'with'. If this statement is a common table expression, an xmlnamespaces clause or a change tracking context clause, the previous statement must be terminated with a semicolon.",
                    "ename": "",
                    "traceback": []
                },
                {
                    "output_type": "display_data",
                    "data": {
                        "text/html": "(1 row affected)"
                    },
                    "metadata": {}
                },
                {
                    "output_type": "display_data",
                    "data": {
                        "text/html": "Total execution time: 00:00:00.028"
                    },
                    "metadata": {}
                },
                {
                    "output_type": "execute_result",
                    "metadata": {},
                    "execution_count": 3,
                    "data": {
                        "application/vnd.dataresource+json": {
                            "schema": {
                                "fields": [
                                    {
                                        "name": "CurrentDatabase"
                                    }
                                ]
                            },
                            "data": [
                                {
                                    "CurrentDatabase": "TestDatabase"
                                }
                            ]
                        },
                        "text/html": [
                            "<table>",
                            "<tr><th>CurrentDatabase</th></tr>",
                            "<tr><td>TestDatabase</td></tr>",
                            "</table>"
                        ]
                    }
                }
            ],
            "execution_count": 3
        },
        {
            "cell_type": "markdown",
            "source": [
                "## CTE - Common Table Expressions"
            ],
            "metadata": {
                "language": "sql",
                "azdata_cell_guid": "b066da02-458c-4fe8-92e5-0c05b6863d98"
            },
            "attachments": {}
        },
        {
            "cell_type": "code",
            "source": [
                "--CTE Common Table Expressions\n",
                "\n",
                "WITH CustomerTotals AS (\n",
                "    SELECT \n",
                "        c.customer_id, \n",
                "        c.name, \n",
                "        SUM(o.total_amount) AS TotalSpent\n",
                "    FROM [TestDatabase].[dbo].[customers] c\n",
                "    LEFT JOIN [TestDatabase].[dbo].orders o ON c.customer_id = o.customer_id\n",
                "    GROUP BY c.customer_id, c.name\n",
                ")\n",
                "SELECT *\n",
                "FROM CustomerTotals\n",
                "WHERE TotalSpent > 5000;\n",
                "\n",
                "\n",
                "SELECT \n",
                "    o.customer_id,\n",
                "    o.order_date,\n",
                "    o.total_amount,\n",
                "    SUM(o.total_amount) OVER (PARTITION BY o.customer_id ORDER BY o.order_date) AS CumulativeSpend\n",
                "FROM [TestDatabase].[dbo].[orders] o;\n",
                ""
            ],
            "metadata": {
                "language": "sql",
                "azdata_cell_guid": "343456ea-69c2-4a6b-ab57-ea229f5f039b"
            },
            "outputs": [
                {
                    "output_type": "display_data",
                    "data": {
                        "text/html": "(0 rows affected)"
                    },
                    "metadata": {}
                },
                {
                    "output_type": "display_data",
                    "data": {
                        "text/html": "(5 rows affected)"
                    },
                    "metadata": {}
                },
                {
                    "output_type": "display_data",
                    "data": {
                        "text/html": "Total execution time: 00:00:00.043"
                    },
                    "metadata": {}
                },
                {
                    "output_type": "execute_result",
                    "execution_count": 24,
                    "data": {
                        "application/vnd.dataresource+json": {
                            "schema": {
                                "fields": [
                                    {
                                        "name": "customer_id"
                                    },
                                    {
                                        "name": "name"
                                    },
                                    {
                                        "name": "TotalSpent"
                                    }
                                ]
                            },
                            "data": []
                        },
                        "text/html": "<table><tr><th>customer_id</th><th>name</th><th>TotalSpent</th></tr></table>"
                    },
                    "metadata": {}
                },
                {
                    "output_type": "execute_result",
                    "execution_count": 24,
                    "data": {
                        "application/vnd.dataresource+json": {
                            "schema": {
                                "fields": [
                                    {
                                        "name": "customer_id"
                                    },
                                    {
                                        "name": "order_date"
                                    },
                                    {
                                        "name": "total_amount"
                                    },
                                    {
                                        "name": "CumulativeSpend"
                                    }
                                ]
                            },
                            "data": [
                                {
                                    "customer_id": "1",
                                    "order_date": "2024-01-10",
                                    "total_amount": "2000",
                                    "CumulativeSpend": "2000"
                                },
                                {
                                    "customer_id": "1",
                                    "order_date": "2024-01-15",
                                    "total_amount": "3000",
                                    "CumulativeSpend": "5000"
                                },
                                {
                                    "customer_id": "2",
                                    "order_date": "2024-01-12",
                                    "total_amount": "3000",
                                    "CumulativeSpend": "3000"
                                },
                                {
                                    "customer_id": "3",
                                    "order_date": "2024-01-14",
                                    "total_amount": "1500",
                                    "CumulativeSpend": "1500"
                                },
                                {
                                    "customer_id": "3",
                                    "order_date": "2024-01-16",
                                    "total_amount": "500",
                                    "CumulativeSpend": "2000"
                                }
                            ]
                        },
                        "text/html": "<table><tr><th>customer_id</th><th>order_date</th><th>total_amount</th><th>CumulativeSpend</th></tr><tr><td>1</td><td>2024-01-10</td><td>2000</td><td>2000</td></tr><tr><td>1</td><td>2024-01-15</td><td>3000</td><td>5000</td></tr><tr><td>2</td><td>2024-01-12</td><td>3000</td><td>3000</td></tr><tr><td>3</td><td>2024-01-14</td><td>1500</td><td>1500</td></tr><tr><td>3</td><td>2024-01-16</td><td>500</td><td>2000</td></tr></table>"
                    },
                    "metadata": {}
                }
            ],
            "execution_count": 24
        },
        {
            "cell_type": "code",
            "source": [
                "--CTE Common Table Expressions\n",
                "\n",
                "WITH CustomerTotals AS (\n",
                "    SELECT \n",
                "        c.customer_id, \n",
                "        c.name, \n",
                "        SUM(o.total_amount) AS TotalSpent\n",
                "    FROM customers c\n",
                "    LEFT JOIN orders o ON c.customer_id = o.customer_id\n",
                "    GROUP BY c.customer_id, c.name\n",
                ")\n",
                "SELECT *\n",
                "FROM CustomerTotals\n",
                "WHERE TotalSpent > 5000;\n",
                "\n",
                "\n",
                "SELECT \n",
                "    o.customer_id,\n",
                "    o.order_date,\n",
                "    o.total_amount,\n",
                "    SUM(o.total_amount) OVER (PARTITION BY o.customer_id ORDER BY o.order_date) AS CumulativeSpend\n",
                "FROM orders o;"
            ],
            "metadata": {
                "language": "sql",
                "azdata_cell_guid": "c45b6264-ad6f-413f-9653-e43d020ae417"
            },
            "outputs": [
                {
                    "output_type": "display_data",
                    "data": {
                        "text/html": "(0 rows affected)"
                    },
                    "metadata": {}
                },
                {
                    "output_type": "display_data",
                    "data": {
                        "text/html": "(5 rows affected)"
                    },
                    "metadata": {}
                },
                {
                    "output_type": "display_data",
                    "data": {
                        "text/html": "Total execution time: 00:00:00.053"
                    },
                    "metadata": {}
                },
                {
                    "output_type": "execute_result",
                    "execution_count": 33,
                    "data": {
                        "application/vnd.dataresource+json": {
                            "schema": {
                                "fields": [
                                    {
                                        "name": "customer_id"
                                    },
                                    {
                                        "name": "name"
                                    },
                                    {
                                        "name": "TotalSpent"
                                    }
                                ]
                            },
                            "data": []
                        },
                        "text/html": "<table><tr><th>customer_id</th><th>name</th><th>TotalSpent</th></tr></table>"
                    },
                    "metadata": {}
                },
                {
                    "output_type": "execute_result",
                    "execution_count": 33,
                    "data": {
                        "application/vnd.dataresource+json": {
                            "schema": {
                                "fields": [
                                    {
                                        "name": "customer_id"
                                    },
                                    {
                                        "name": "order_date"
                                    },
                                    {
                                        "name": "total_amount"
                                    },
                                    {
                                        "name": "CumulativeSpend"
                                    }
                                ]
                            },
                            "data": [
                                {
                                    "customer_id": "1",
                                    "order_date": "2024-01-10",
                                    "total_amount": "2000",
                                    "CumulativeSpend": "2000"
                                },
                                {
                                    "customer_id": "1",
                                    "order_date": "2024-01-15",
                                    "total_amount": "3000",
                                    "CumulativeSpend": "5000"
                                },
                                {
                                    "customer_id": "2",
                                    "order_date": "2024-01-12",
                                    "total_amount": "3000",
                                    "CumulativeSpend": "3000"
                                },
                                {
                                    "customer_id": "3",
                                    "order_date": "2024-01-14",
                                    "total_amount": "1500",
                                    "CumulativeSpend": "1500"
                                },
                                {
                                    "customer_id": "3",
                                    "order_date": "2024-01-16",
                                    "total_amount": "500",
                                    "CumulativeSpend": "2000"
                                }
                            ]
                        },
                        "text/html": "<table><tr><th>customer_id</th><th>order_date</th><th>total_amount</th><th>CumulativeSpend</th></tr><tr><td>1</td><td>2024-01-10</td><td>2000</td><td>2000</td></tr><tr><td>1</td><td>2024-01-15</td><td>3000</td><td>5000</td></tr><tr><td>2</td><td>2024-01-12</td><td>3000</td><td>3000</td></tr><tr><td>3</td><td>2024-01-14</td><td>1500</td><td>1500</td></tr><tr><td>3</td><td>2024-01-16</td><td>500</td><td>2000</td></tr></table>"
                    },
                    "metadata": {}
                }
            ],
            "execution_count": 33
        },
        {
            "cell_type": "markdown",
            "source": [
                "## Stored Procedures"
            ],
            "metadata": {
                "language": "sql",
                "azdata_cell_guid": "1abed208-ae4f-4bb3-85e7-e3a7588fe7b5"
            },
            "attachments": {}
        },
        {
            "cell_type": "code",
            "source": [
                "-- stored procedure\n",
                "-- DROP PROCEDURE GetCustomerOrders;\n",
                "\n",
                "CREATE PROCEDURE GetCustomerOrders\n",
                "    @CustomerID INT\n",
                "AS\n",
                "BEGIN\n",
                "    SELECT * \n",
                "    FROM [TestDatabase].[dbo].[orders] \n",
                "    WHERE customer_id = @CustomerID;\n",
                "END;\n",
                ""
            ],
            "metadata": {
                "language": "sql",
                "azdata_cell_guid": "e25147de-3dd8-4cd5-ac6e-98e145b7ff4f"
            },
            "outputs": [
                {
                    "output_type": "error",
                    "ename": "",
                    "evalue": "Msg 2714, Level 16, State 3, Procedure GetCustomerOrders, Line 4\nThere is already an object named 'GetCustomerOrders' in the database.",
                    "traceback": []
                },
                {
                    "output_type": "display_data",
                    "data": {
                        "text/html": "Total execution time: 00:00:00.023"
                    },
                    "metadata": {}
                }
            ],
            "execution_count": 28
        },
        {
            "cell_type": "code",
            "source": [
                "-- Call a procedure\n",
                "EXEC GetCustomerOrders @CustomerID = 1;"
            ],
            "metadata": {
                "language": "sql",
                "azdata_cell_guid": "4e6cb332-2710-46a1-aded-d955f1f4331b"
            },
            "outputs": [
                {
                    "output_type": "display_data",
                    "data": {
                        "text/html": "(2 rows affected)"
                    },
                    "metadata": {}
                },
                {
                    "output_type": "display_data",
                    "data": {
                        "text/html": "Total execution time: 00:00:00.010"
                    },
                    "metadata": {}
                },
                {
                    "output_type": "execute_result",
                    "execution_count": 29,
                    "data": {
                        "application/vnd.dataresource+json": {
                            "schema": {
                                "fields": [
                                    {
                                        "name": "order_id"
                                    },
                                    {
                                        "name": "customer_id"
                                    },
                                    {
                                        "name": "order_date"
                                    },
                                    {
                                        "name": "total_amount"
                                    }
                                ]
                            },
                            "data": [
                                {
                                    "order_id": "101",
                                    "customer_id": "1",
                                    "order_date": "2024-01-10",
                                    "total_amount": "2000"
                                },
                                {
                                    "order_id": "103",
                                    "customer_id": "1",
                                    "order_date": "2024-01-15",
                                    "total_amount": "3000"
                                }
                            ]
                        },
                        "text/html": "<table><tr><th>order_id</th><th>customer_id</th><th>order_date</th><th>total_amount</th></tr><tr><td>101</td><td>1</td><td>2024-01-10</td><td>2000</td></tr><tr><td>103</td><td>1</td><td>2024-01-15</td><td>3000</td></tr></table>"
                    },
                    "metadata": {}
                }
            ],
            "execution_count": 29
        },
        {
            "cell_type": "code",
            "source": [
                "-- 1. Ügyfelek rendeléseinek részletei\n",
                "CREATE OR ALTER VIEW customer_orders AS\n",
                "SELECT \n",
                "    c.customer_id,\n",
                "    c.name AS customer_name,\n",
                "    c.country,\n",
                "    o.order_id,\n",
                "    o.order_date,\n",
                "    o.total_amount\n",
                "FROM \n",
                "    [dbo].[customers] c\n",
                "INNER JOIN \n",
                "    [dbo].[orders] o \n",
                "ON \n",
                "    c.customer_id = o.customer_id;"
            ],
            "metadata": {
                "language": "sql",
                "azdata_cell_guid": "e0b8f866-13ff-4246-8fb9-d2a7630848f0",
                "tags": [
                    "hide_input"
                ]
            },
            "outputs": [
                {
                    "output_type": "display_data",
                    "data": {
                        "text/html": "Commands completed successfully."
                    },
                    "metadata": {}
                },
                {
                    "output_type": "display_data",
                    "data": {
                        "text/html": "Total execution time: 00:00:00.049"
                    },
                    "metadata": {}
                }
            ],
            "execution_count": 8
        },
        {
            "cell_type": "code",
            "source": [
                "-- 2. Termékek és rendelési részletek hozzáadása\n",
                "CREATE OR ALTER VIEW customer_order_details AS\n",
                "SELECT \n",
                "    co.customer_id,\n",
                "    co.customer_name,\n",
                "    co.country,\n",
                "    co.order_id,\n",
                "    co.order_date,\n",
                "    co.total_amount,\n",
                "    od.product_id,\n",
                "    od.quantity,\n",
                "    od.price_per_unit,\n",
                "    p.product_name,\n",
                "    p.category\n",
                "FROM \n",
                "    [dbo].[customer_orders] co\n",
                "INNER JOIN \n",
                "    [dbo].order_details od \n",
                "ON \n",
                "    co.order_id = od.order_id\n",
                "INNER JOIN \n",
                "    [dbo].[products] p \n",
                "ON \n",
                "    od.product_id = p.product_id;"
            ],
            "metadata": {
                "language": "sql",
                "azdata_cell_guid": "4475ea3e-2044-4e1f-ad85-1398d978b207"
            },
            "outputs": [
                {
                    "output_type": "display_data",
                    "data": {
                        "text/html": "Commands completed successfully."
                    },
                    "metadata": {}
                },
                {
                    "output_type": "display_data",
                    "data": {
                        "text/html": "Total execution time: 00:00:00.021"
                    },
                    "metadata": {}
                }
            ],
            "execution_count": 10
        },
        {
            "cell_type": "code",
            "source": [
                "-- 3. Ügyfelek összesített költése és legutóbbi rendelési időpontja\n",
                "CREATE OR ALTER VIEW customer_spending AS\n",
                "SELECT \n",
                "    customer_id,\n",
                "    customer_name,\n",
                "    country,\n",
                "    SUM(total_amount) AS total_spent,\n",
                "    MAX(order_date) AS last_order_date\n",
                "FROM \n",
                "    customer_orders\n",
                "GROUP BY \n",
                "    customer_id, customer_name, country;"
            ],
            "metadata": {
                "language": "sql",
                "azdata_cell_guid": "642affcc-0f1b-4477-9360-0ebe57a9d5cb"
            },
            "outputs": [
                {
                    "output_type": "display_data",
                    "data": {
                        "text/html": "Commands completed successfully."
                    },
                    "metadata": {}
                },
                {
                    "output_type": "display_data",
                    "data": {
                        "text/html": "Total execution time: 00:00:00.025"
                    },
                    "metadata": {}
                }
            ],
            "execution_count": 11
        },
        {
            "cell_type": "code",
            "source": [
                "-- 4. Országonkénti összesített költés\n",
                "CREATE OR ALTER VIEW country_spending AS\n",
                "SELECT \n",
                "    country,\n",
                "    SUM(total_amount) AS total_country_spent,\n",
                "    COUNT(DISTINCT customer_id) AS total_customers\n",
                "FROM \n",
                "    customer_orders\n",
                "GROUP BY \n",
                "    country;"
            ],
            "metadata": {
                "language": "sql",
                "azdata_cell_guid": "6dbeede8-0d72-4961-875d-55af6e7f62ac",
                "tags": []
            },
            "outputs": [
                {
                    "output_type": "display_data",
                    "data": {
                        "text/html": "Commands completed successfully."
                    },
                    "metadata": {}
                },
                {
                    "output_type": "display_data",
                    "data": {
                        "text/html": "Total execution time: 00:00:00.010"
                    },
                    "metadata": {}
                }
            ],
            "execution_count": 12
        },
        {
            "cell_type": "code",
            "source": [
                "-- 5. Legnépszerűbb termékkategória ügyfelenként\n",
                "CREATE OR ALTER VIEW popular_categories AS\n",
                "SELECT \n",
                "    customer_id,\n",
                "    customer_name,\n",
                "    category,\n",
                "    SUM(quantity) AS total_quantity,\n",
                "    RANK() OVER (PARTITION BY customer_id ORDER BY SUM(quantity) DESC) AS rank_category\n",
                "FROM \n",
                "    customer_order_details\n",
                "GROUP BY \n",
                "    customer_id, customer_name, category;"
            ],
            "metadata": {
                "language": "sql",
                "azdata_cell_guid": "601b421e-3d82-40a8-9048-dca0cc9b9b60"
            },
            "outputs": [
                {
                    "output_type": "display_data",
                    "data": {
                        "text/html": "Commands completed successfully."
                    },
                    "metadata": {}
                },
                {
                    "output_type": "display_data",
                    "data": {
                        "text/html": "Total execution time: 00:00:00.012"
                    },
                    "metadata": {}
                }
            ],
            "execution_count": 15
        },
        {
            "cell_type": "code",
            "source": [
                "-- Csak a legnépszerűbb kategóriák\n",
                "CREATE OR ALTER VIEW top_categories AS\n",
                "SELECT \n",
                "    customer_id,\n",
                "    customer_name,\n",
                "    category AS top_category\n",
                "FROM \n",
                "    popular_categories\n",
                "WHERE \n",
                "    rank_category = 1;"
            ],
            "metadata": {
                "language": "sql",
                "azdata_cell_guid": "79029962-ceba-40e2-a2c6-d5159ab01a17"
            },
            "outputs": [
                {
                    "output_type": "display_data",
                    "data": {
                        "text/html": "Commands completed successfully."
                    },
                    "metadata": {}
                },
                {
                    "output_type": "display_data",
                    "data": {
                        "text/html": "Total execution time: 00:00:00.010"
                    },
                    "metadata": {}
                }
            ],
            "execution_count": 16
        },
        {
            "cell_type": "code",
            "source": [
                "-- 6. Final Report\n",
                "SELECT \n",
                "    cs.customer_id,\n",
                "    cs.customer_name,\n",
                "    cs.country,\n",
                "    cs.total_spent,\n",
                "    cs.last_order_date,\n",
                "    tc.top_category,\n",
                "    cs1.total_country_spent\n",
                "FROM \n",
                "    customer_spending cs\n",
                "LEFT JOIN \n",
                "    top_categories tc\n",
                "ON \n",
                "    cs.customer_id = tc.customer_id\n",
                "LEFT JOIN \n",
                "    country_spending cs1\n",
                "ON \n",
                "    cs.country = cs1.country\n",
                "ORDER BY \n",
                "    cs.total_spent DESC;\n",
                ""
            ],
            "metadata": {
                "language": "sql",
                "azdata_cell_guid": "d5b89159-bade-4667-9e4b-d829bf158ef7"
            },
            "outputs": [
                {
                    "output_type": "display_data",
                    "data": {
                        "text/html": "(3 rows affected)"
                    },
                    "metadata": {}
                },
                {
                    "output_type": "display_data",
                    "data": {
                        "text/html": "Total execution time: 00:00:00.083"
                    },
                    "metadata": {}
                },
                {
                    "output_type": "execute_result",
                    "execution_count": 17,
                    "data": {
                        "application/vnd.dataresource+json": {
                            "schema": {
                                "fields": [
                                    {
                                        "name": "customer_id"
                                    },
                                    {
                                        "name": "customer_name"
                                    },
                                    {
                                        "name": "country"
                                    },
                                    {
                                        "name": "total_spent"
                                    },
                                    {
                                        "name": "last_order_date"
                                    },
                                    {
                                        "name": "top_category"
                                    },
                                    {
                                        "name": "total_country_spent"
                                    }
                                ]
                            },
                            "data": [
                                {
                                    "customer_id": "1",
                                    "customer_name": "John Doe",
                                    "country": "USA",
                                    "total_spent": "5000",
                                    "last_order_date": "2024-01-15",
                                    "top_category": "Electronics",
                                    "total_country_spent": "8000"
                                },
                                {
                                    "customer_id": "2",
                                    "customer_name": "Jane Smith",
                                    "country": "USA",
                                    "total_spent": "3000",
                                    "last_order_date": "2024-01-12",
                                    "top_category": "Books",
                                    "total_country_spent": "8000"
                                },
                                {
                                    "customer_id": "3",
                                    "customer_name": "Alice Brown",
                                    "country": "UK",
                                    "total_spent": "2000",
                                    "last_order_date": "2024-01-16",
                                    "top_category": "Home Appliances",
                                    "total_country_spent": "2000"
                                }
                            ]
                        },
                        "text/html": "<table><tr><th>customer_id</th><th>customer_name</th><th>country</th><th>total_spent</th><th>last_order_date</th><th>top_category</th><th>total_country_spent</th></tr><tr><td>1</td><td>John Doe</td><td>USA</td><td>5000</td><td>2024-01-15</td><td>Electronics</td><td>8000</td></tr><tr><td>2</td><td>Jane Smith</td><td>USA</td><td>3000</td><td>2024-01-12</td><td>Books</td><td>8000</td></tr><tr><td>3</td><td>Alice Brown</td><td>UK</td><td>2000</td><td>2024-01-16</td><td>Home Appliances</td><td>2000</td></tr></table>"
                    },
                    "metadata": {}
                }
            ],
            "execution_count": 17
        },
        {
            "cell_type": "code",
            "source": [
                "DECLARE @MyVariable INT;\n",
                "SET @MyVariable = 10;\n",
                ""
            ],
            "metadata": {
                "language": "sql",
                "azdata_cell_guid": "17366031-8e23-430b-bb11-a8f1297c7332"
            },
            "outputs": [
                {
                    "output_type": "display_data",
                    "data": {
                        "text/html": "Commands completed successfully."
                    },
                    "metadata": {}
                },
                {
                    "output_type": "display_data",
                    "data": {
                        "text/html": "Total execution time: 00:00:00.004"
                    },
                    "metadata": {}
                }
            ],
            "execution_count": 18
        },
        {
            "cell_type": "code",
            "source": [
                "DECLARE @CustomerName NVARCHAR(100);\n",
                "SELECT @CustomerName = name FROM dbo.customers WHERE customer_id = 1;\n",
                "\n",
                ""
            ],
            "metadata": {
                "language": "sql",
                "azdata_cell_guid": "c43158b4-b384-4e36-b3ea-a33f71e02f5f"
            },
            "outputs": [
                {
                    "output_type": "display_data",
                    "data": {
                        "text/html": "Commands completed successfully."
                    },
                    "metadata": {}
                },
                {
                    "output_type": "display_data",
                    "data": {
                        "text/html": "Total execution time: 00:00:00.006"
                    },
                    "metadata": {}
                }
            ],
            "execution_count": 22
        }
    ]
}