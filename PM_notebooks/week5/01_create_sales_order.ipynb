{
    "metadata": {
        "kernelspec": {
            "name": "SQL",
            "display_name": "SQL",
            "language": "sql"
        },
        "language_info": {
            "name": "sql",
            "version": ""
        }
    },
    "nbformat_minor": 2,
    "nbformat": 4,
    "cells": [
        {
            "cell_type": "markdown",
            "source": [
                "# **Create Sales Order**"
            ],
            "metadata": {
                "language": "sql",
                "azdata_cell_guid": "620b5624-019d-4935-868e-18b2c8c23e40"
            },
            "attachments": {}
        },
        {
            "cell_type": "code",
            "source": [
                "select Order_ID as CaseID,\r\n",
                "Customer_Name as Customer,\r\n",
                "Customer_Country,\r\n",
                "Customer_Type,\r\n",
                "Order_Value,\r\n",
                "Currency,\r\n",
                "CONCAT(CONCAT(o.Order_Type,' - '),Order_Type_Description) as Order_type,\r\n",
                "Company_Code,\r\n",
                "Delivery_Block,\r\n",
                "Billing_Block,\r\n",
                "'Create sales order' as Event_type,\r\n",
                "Cast(Creation_date as datetime) + cast(Creation_Time as datetime) as Event_time,\r\n",
                "o.[User],\r\n",
                "Department,\r\n",
                "User_Type,\r\n",
                "Order_ID as Object_ID,\r\n",
                "'Sales order' as Object_type,\r\n",
                "'Main' as Event_category\r\n",
                "into [master].[dbo].[O2C_Events_Create_sales_order]\r\n",
                "from [master].[dbo].[o2c_entities_orders] o \r\n",
                "left join [master].[dbo].[O2C_Master_Data_Customers] c on o.Customer_ID=c.Customer_ID\r\n",
                "left join [master].[dbo].[O2C_Master_Data_Order_Types] ot on o.Order_Type=ot.Order_Type\r\n",
                "left join [master].[dbo].[O2C_Master_Data_Users] u on o.[User]=u.User_ID\r\n",
                "where Order_ID is not null"
            ],
            "metadata": {
                "azdata_cell_guid": "c254a046-f52c-4d46-8944-fb2763613355",
                "language": "sql"
            },
            "outputs": [
                {
                    "output_type": "display_data",
                    "data": {
                        "text/html": "(1902 rows affected)"
                    },
                    "metadata": {}
                },
                {
                    "output_type": "display_data",
                    "data": {
                        "text/html": "Total execution time: 00:00:00.064"
                    },
                    "metadata": {}
                }
            ],
            "execution_count": 10
        },
        {
            "cell_type": "code",
            "source": [
                ""
            ],
            "metadata": {
                "language": "sql",
                "azdata_cell_guid": "09de0cb4-3b84-4386-8e44-736766a37724"
            },
            "outputs": [],
            "execution_count": null
        }
    ]
}