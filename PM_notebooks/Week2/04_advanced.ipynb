{
    "metadata": {
        "kernelspec": {
            "name": "SQL",
            "display_name": "SQL",
            "language": "sql"
        },
        "language_info": {
            "name": "sql",
            "version": ""
        }
    },
    "nbformat_minor": 2,
    "nbformat": 4,
    "cells": [
        {
            "cell_type": "markdown",
            "source": [
                "- CTE - Common Table Expressions"
            ],
            "metadata": {
                "language": "sql",
                "azdata_cell_guid": "bb7b328c-fe70-4e02-b3ed-5a07c56109c0"
            },
            "attachments": {}
        },
        {
            "cell_type": "code",
            "source": [
                ""
            ],
            "metadata": {
                "language": "sql",
                "azdata_cell_guid": "af3accb8-7e3e-49d8-a410-cba180f3eff5"
            },
            "outputs": [],
            "execution_count": null
        },
        {
            "cell_type": "markdown",
            "source": [
                "- Stored Procedure"
            ],
            "metadata": {
                "language": "sql",
                "azdata_cell_guid": "a2aaa888-f193-4eb4-bcae-4012dbbec059"
            },
            "attachments": {}
        },
        {
            "cell_type": "code",
            "source": [
                ""
            ],
            "metadata": {
                "language": "sql",
                "azdata_cell_guid": "03db00cd-a872-4e8d-86c2-dec6639c1d71"
            },
            "outputs": [],
            "execution_count": null
        },
        {
            "cell_type": "markdown",
            "source": [
                "- Recursion"
            ],
            "metadata": {
                "language": "sql",
                "azdata_cell_guid": "9849e23d-d0bb-43ec-9a79-ec99cd55b263"
            },
            "attachments": {}
        },
        {
            "cell_type": "code",
            "source": [
                "WITH CTE_1 (iteration) AS(\n",
                "    --Base case\n",
                "    SELECT 1 AS iteration\n",
                "\n",
                "    UNION ALL\n",
                "\n",
                "    --Recursive case\n",
                "    SELECT iteration +1\n",
                "    FROM CTE_1\n",
                "    WHERE iteration < 3 -- Stopping condition\n",
                ")\n",
                "\n",
                "SELECT iteration\n",
                "FROM CTE_1\n",
                "ORDER BY iteration;"
            ],
            "metadata": {
                "azdata_cell_guid": "e4efbc4e-57f0-4a41-8968-0510121d8dda",
                "language": "sql",
                "tags": []
            },
            "outputs": [],
            "execution_count": null
        }
    ]
}