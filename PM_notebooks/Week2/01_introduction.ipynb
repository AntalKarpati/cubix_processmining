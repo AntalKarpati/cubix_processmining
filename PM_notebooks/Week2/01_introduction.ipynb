{
    "metadata": {
        "kernelspec": {
            "name": "SQL",
            "display_name": "SQL",
            "language": "sql"
        },
        "language_info": {
            "name": "sql",
            "version": ""
        }
    },
    "nbformat_minor": 2,
    "nbformat": 4,
    "cells": [
        {
            "cell_type": "markdown",
            "source": [
                "#  Test Header"
            ],
            "metadata": {
                "azdata_cell_guid": "7cd4f3dc-6c00-4a53-9e0a-9243d2a21cf0"
            },
            "attachments": {}
        },
        {
            "cell_type": "markdown",
            "source": [
                ""
            ],
            "metadata": {
                "azdata_cell_guid": "95fa044c-eea5-4fdf-808f-c618f100aa92"
            }
        }
    ]
}