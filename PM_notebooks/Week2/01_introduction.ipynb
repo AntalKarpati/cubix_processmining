{
    "metadata": {
        "kernelspec": {
            "name": "SQL",
            "display_name": "SQL",
            "language": "sql"
        },
        "language_info": {
            "name": "sql",
            "version": ""
        }
    },
    "nbformat_minor": 2,
    "nbformat": 4,
    "cells": [
        {
            "cell_type": "markdown",
            "source": [
                "#  Test Header"
            ],
            "metadata": {
                "azdata_cell_guid": "7cd4f3dc-6c00-4a53-9e0a-9243d2a21cf0"
            },
            "attachments": {}
        },
        {
            "cell_type": "code",
            "source": [
                "SELECT TOP (1000) [customer_id]\n",
                "      ,[name]\n",
                "      ,[signup_date]\n",
                "      ,[country]\n",
                "  FROM [sql_recap].[dbo].[customers]\n",
                ""
            ],
            "metadata": {
                "azdata_cell_guid": "374caa76-3901-4cb5-a0db-b40c22ee7452",
                "language": "sql"
            },
            "outputs": [
                {
                    "output_type": "display_data",
                    "data": {
                        "text/html": "(3 rows affected)"
                    },
                    "metadata": {}
                },
                {
                    "output_type": "display_data",
                    "data": {
                        "text/html": "Total execution time: 00:00:00.019"
                    },
                    "metadata": {}
                },
                {
                    "output_type": "execute_result",
                    "execution_count": 2,
                    "data": {
                        "application/vnd.dataresource+json": {
                            "schema": {
                                "fields": [
                                    {
                                        "name": "customer_id"
                                    },
                                    {
                                        "name": "name"
                                    },
                                    {
                                        "name": "signup_date"
                                    },
                                    {
                                        "name": "country"
                                    }
                                ]
                            },
                            "data": [
                                {
                                    "customer_id": "1",
                                    "name": "John Doe",
                                    "signup_date": "2023-01-01",
                                    "country": "USA"
                                },
                                {
                                    "customer_id": "2",
                                    "name": "Jane Smith",
                                    "signup_date": "2023-01-15",
                                    "country": "USA"
                                },
                                {
                                    "customer_id": "3",
                                    "name": "Alice Brown",
                                    "signup_date": "2023-02-01",
                                    "country": "UK"
                                }
                            ]
                        },
                        "text/html": "<table><tr><th>customer_id</th><th>name</th><th>signup_date</th><th>country</th></tr><tr><td>1</td><td>John Doe</td><td>2023-01-01</td><td>USA</td></tr><tr><td>2</td><td>Jane Smith</td><td>2023-01-15</td><td>USA</td></tr><tr><td>3</td><td>Alice Brown</td><td>2023-02-01</td><td>UK</td></tr></table>"
                    },
                    "metadata": {}
                }
            ],
            "execution_count": 2
        }
    ]
}