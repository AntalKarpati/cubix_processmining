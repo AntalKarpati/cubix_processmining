{
    "metadata": {
        "kernelspec": {
            "name": "SQL",
            "display_name": "SQL",
            "language": "sql"
        },
        "language_info": {
            "name": "sql",
            "version": ""
        }
    },
    "nbformat_minor": 2,
    "nbformat": 4,
    "cells": [
        {
            "cell_type": "markdown",
            "source": [
                "# Basics"
            ],
            "metadata": {
                "azdata_cell_guid": "0e636e53-5946-44e8-8925-0bf682338339"
            },
            "attachments": {}
        },
        {
            "cell_type": "markdown",
            "source": [
                "- <span style=\"font-family: -apple-system, BlinkMacSystemFont, sans-serif; color: var(--vscode-foreground);\">select - from</span>"
            ],
            "metadata": {
                "azdata_cell_guid": "84c7107e-2e93-4ad7-bab4-a99778077704"
            },
            "attachments": {}
        },
        {
            "cell_type": "markdown",
            "source": [
                "task:"
            ],
            "metadata": {
                "azdata_cell_guid": "21d20afc-75a8-4a68-a514-70f8a8da6238"
            },
            "attachments": {}
        },
        {
            "cell_type": "code",
            "source": [
                ""
            ],
            "metadata": {
                "azdata_cell_guid": "b3550f31-1f73-43d0-89ea-bd79d806030c",
                "language": "sql"
            },
            "outputs": [],
            "execution_count": null
        },
        {
            "cell_type": "markdown",
            "source": [
                "- <span style=\"font-family: -apple-system, BlinkMacSystemFont, sans-serif; color: var(--vscode-foreground);\">where - filtering</span>"
            ],
            "metadata": {
                "language": "sql",
                "azdata_cell_guid": "7324f632-9f91-4943-a544-399b18ab5100"
            },
            "attachments": {}
        },
        {
            "cell_type": "markdown",
            "source": [
                "task:"
            ],
            "metadata": {
                "language": "sql",
                "azdata_cell_guid": "0e441d6c-039f-456b-b6c9-59e1f350c760"
            },
            "attachments": {}
        },
        {
            "cell_type": "code",
            "source": [
                ""
            ],
            "metadata": {
                "language": "sql",
                "azdata_cell_guid": "d226b17d-6fef-49a8-9cd2-f8a499462763"
            },
            "outputs": [],
            "execution_count": null
        },
        {
            "cell_type": "markdown",
            "source": [
                "- <span style=\"color: var(--vscode-foreground); font-family: -apple-system, BlinkMacSystemFont, sans-serif;\">group by</span>"
            ],
            "metadata": {
                "language": "sql",
                "azdata_cell_guid": "edf7f915-d4ad-459c-a90d-c348743b2767"
            },
            "attachments": {}
        },
        {
            "cell_type": "markdown",
            "source": [
                "task:"
            ],
            "metadata": {
                "language": "sql",
                "azdata_cell_guid": "c2a356e0-f8a3-4c45-942a-b2bf2364bf0c"
            },
            "attachments": {}
        },
        {
            "cell_type": "code",
            "source": [
                ""
            ],
            "metadata": {
                "language": "sql",
                "azdata_cell_guid": "e60a0967-589b-4e1a-a96e-c6fcf8c893ec"
            },
            "outputs": [],
            "execution_count": null
        },
        {
            "cell_type": "markdown",
            "source": [
                "- having"
            ],
            "metadata": {
                "azdata_cell_guid": "31261ae3-eee0-4c5a-9708-45692ef52647"
            },
            "attachments": {}
        },
        {
            "cell_type": "markdown",
            "source": [
                "task:"
            ],
            "metadata": {
                "language": "sql",
                "azdata_cell_guid": "99da2b87-f336-4ae1-aa4e-8b81b277145a"
            },
            "attachments": {}
        },
        {
            "cell_type": "code",
            "source": [
                ""
            ],
            "metadata": {
                "azdata_cell_guid": "7fc4fa3d-34a5-4e5f-bb66-6994198c5a49",
                "language": "sql"
            },
            "outputs": [],
            "execution_count": null
        },
        {
            "cell_type": "markdown",
            "source": [
                ""
            ],
            "metadata": {
                "azdata_cell_guid": "89f2c43f-7e83-499e-8a6e-07b1b807b143"
            }
        }
    ]
}