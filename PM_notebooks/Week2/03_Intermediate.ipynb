{
    "metadata": {
        "kernelspec": {
            "name": "SQL",
            "display_name": "SQL",
            "language": "sql"
        },
        "language_info": {
            "name": "sql",
            "version": ""
        }
    },
    "nbformat_minor": 2,
    "nbformat": 4,
    "cells": [
        {
            "cell_type": "markdown",
            "source": [
                "## Intermediate"
            ],
            "metadata": {
                "azdata_cell_guid": "e842d5b8-3ee9-466f-9e25-018cb9513a0a"
            },
            "attachments": {}
        },
        {
            "cell_type": "code",
            "source": [
                ""
            ],
            "metadata": {
                "azdata_cell_guid": "27b21e6b-a488-45ec-8bf8-506aca917b2b",
                "language": "sql"
            },
            "outputs": [],
            "execution_count": null
        },
        {
            "cell_type": "markdown",
            "source": [
                "- join"
            ],
            "metadata": {
                "azdata_cell_guid": "2af40eae-44fc-4993-a373-c70d6b45e5d6"
            },
            "attachments": {}
        },
        {
            "cell_type": "markdown",
            "source": [
                "task:"
            ],
            "metadata": {
                "azdata_cell_guid": "b96aaf38-17f0-4b1d-aa47-6d329df96d33"
            },
            "attachments": {}
        },
        {
            "cell_type": "code",
            "source": [
                ""
            ],
            "metadata": {
                "azdata_cell_guid": "7a8124aa-2d84-458b-acab-16cd0e39b827",
                "language": "sql"
            },
            "outputs": [],
            "execution_count": null
        },
        {
            "cell_type": "markdown",
            "source": [
                "- temporary view"
            ],
            "metadata": {
                "azdata_cell_guid": "7d17e729-547c-4f4d-a742-2f8b21a5817b"
            },
            "attachments": {}
        },
        {
            "cell_type": "markdown",
            "source": [
                "task:"
            ],
            "metadata": {
                "azdata_cell_guid": "2cfc718c-fef1-4e3a-9f3b-22c0c7192518"
            },
            "attachments": {}
        },
        {
            "cell_type": "code",
            "source": [
                ""
            ],
            "metadata": {
                "azdata_cell_guid": "65e3d699-ae35-43f2-b7af-35badf82eff9",
                "language": "sql"
            },
            "outputs": [],
            "execution_count": null
        },
        {
            "cell_type": "markdown",
            "source": [
                "- Window"
            ],
            "metadata": {
                "azdata_cell_guid": "707199d1-99a4-49ee-9a31-a0098f0ce87f"
            },
            "attachments": {}
        },
        {
            "cell_type": "markdown",
            "source": [
                "task:"
            ],
            "metadata": {
                "azdata_cell_guid": "75d97ee0-4c94-4480-84d6-9f91e7247000"
            },
            "attachments": {}
        },
        {
            "cell_type": "code",
            "source": [
                ""
            ],
            "metadata": {
                "azdata_cell_guid": "be2c0b49-a591-43c0-88ef-100dd10f2ba3",
                "language": "sql"
            },
            "outputs": [],
            "execution_count": null
        },
        {
            "cell_type": "markdown",
            "source": [
                "- CTE - Common Table Expressions"
            ],
            "metadata": {
                "azdata_cell_guid": "6940ebae-900e-480f-9329-158d83d77d44"
            },
            "attachments": {}
        },
        {
            "cell_type": "markdown",
            "source": [
                "task:"
            ],
            "metadata": {
                "azdata_cell_guid": "7fc30f63-ca98-4697-b2d0-24d7f5f6d7c1"
            },
            "attachments": {}
        },
        {
            "cell_type": "code",
            "source": [
                ""
            ],
            "metadata": {
                "azdata_cell_guid": "869c20cb-de77-4537-bf71-9b08b7f9cdf2",
                "language": "sql"
            },
            "outputs": [],
            "execution_count": null
        },
        {
            "cell_type": "markdown",
            "source": [
                "- Stored Procedure"
            ],
            "metadata": {
                "azdata_cell_guid": "eb92323c-115e-48a0-ab1f-bd114d11592d"
            },
            "attachments": {}
        },
        {
            "cell_type": "markdown",
            "source": [
                "task:"
            ],
            "metadata": {
                "azdata_cell_guid": "8c7abb1d-4a27-423a-8d98-2ed8f4cbf451"
            },
            "attachments": {}
        },
        {
            "cell_type": "code",
            "source": [
                ""
            ],
            "metadata": {
                "azdata_cell_guid": "4eeb5c3d-ccfc-4cd0-b025-03f0f741863f",
                "language": "sql"
            },
            "outputs": [],
            "execution_count": null
        }
    ]
}