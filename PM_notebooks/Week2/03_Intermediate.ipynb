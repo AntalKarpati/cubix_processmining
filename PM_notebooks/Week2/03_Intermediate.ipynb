{
    "metadata": {
        "kernelspec": {
            "name": "SQL",
            "display_name": "SQL",
            "language": "sql"
        },
        "language_info": {
            "name": "sql",
            "version": ""
        }
    },
    "nbformat_minor": 2,
    "nbformat": 4,
    "cells": [
        {
            "cell_type": "markdown",
            "source": [
                "# Intermediate"
            ],
            "metadata": {
                "azdata_cell_guid": "e842d5b8-3ee9-466f-9e25-018cb9513a0a"
            },
            "attachments": {}
        },
        {
            "cell_type": "markdown",
            "source": [
                "- join"
            ],
            "metadata": {
                "azdata_cell_guid": "2af40eae-44fc-4993-a373-c70d6b45e5d6"
            },
            "attachments": {}
        },
        {
            "cell_type": "markdown",
            "source": [
                "task:"
            ],
            "metadata": {
                "azdata_cell_guid": "b96aaf38-17f0-4b1d-aa47-6d329df96d33"
            },
            "attachments": {}
        },
        {
            "cell_type": "code",
            "source": [
                ""
            ],
            "metadata": {
                "azdata_cell_guid": "7a8124aa-2d84-458b-acab-16cd0e39b827",
                "language": "sql"
            },
            "outputs": [],
            "execution_count": null
        },
        {
            "cell_type": "markdown",
            "source": [
                "- temporary view"
            ],
            "metadata": {
                "azdata_cell_guid": "7d17e729-547c-4f4d-a742-2f8b21a5817b"
            },
            "attachments": {}
        },
        {
            "cell_type": "markdown",
            "source": [
                "task:"
            ],
            "metadata": {
                "azdata_cell_guid": "2cfc718c-fef1-4e3a-9f3b-22c0c7192518"
            },
            "attachments": {}
        },
        {
            "cell_type": "code",
            "source": [
                ""
            ],
            "metadata": {
                "azdata_cell_guid": "65e3d699-ae35-43f2-b7af-35badf82eff9",
                "language": "sql"
            },
            "outputs": [],
            "execution_count": null
        },
        {
            "cell_type": "markdown",
            "source": [
                "- Window"
            ],
            "metadata": {
                "azdata_cell_guid": "707199d1-99a4-49ee-9a31-a0098f0ce87f"
            },
            "attachments": {}
        },
        {
            "cell_type": "markdown",
            "source": [
                "task:"
            ],
            "metadata": {
                "azdata_cell_guid": "75d97ee0-4c94-4480-84d6-9f91e7247000"
            },
            "attachments": {}
        },
        {
            "cell_type": "code",
            "source": [
                ""
            ],
            "metadata": {
                "azdata_cell_guid": "be2c0b49-a591-43c0-88ef-100dd10f2ba3",
                "language": "sql"
            },
            "outputs": [],
            "execution_count": null
        }
    ]
}