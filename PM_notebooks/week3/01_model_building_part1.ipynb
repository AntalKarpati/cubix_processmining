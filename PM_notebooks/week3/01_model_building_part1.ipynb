{
    "metadata": {
        "kernelspec": {
            "name": "SQL",
            "display_name": "SQL",
            "language": "sql"
        },
        "language_info": {
            "name": "sql",
            "version": ""
        }
    },
    "nbformat_minor": 2,
    "nbformat": 4,
    "cells": [
        {
            "cell_type": "markdown",
            "source": [
                "# Model building part1"
            ],
            "metadata": {
                "azdata_cell_guid": "6c5fec67-8d02-4cdd-b64c-2da27cd364dc"
            },
            "attachments": {}
        }
    ]
}