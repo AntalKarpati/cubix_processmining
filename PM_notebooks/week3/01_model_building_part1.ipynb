{
    "metadata": {
        "kernelspec": {
            "name": "SQL",
            "display_name": "SQL",
            "language": "sql"
        },
        "language_info": {
            "name": "sql",
            "version": ""
        }
    },
    "nbformat_minor": 2,
    "nbformat": 4,
    "cells": [
        {
            "cell_type": "markdown",
            "source": [
                "This is the new model building part 3"
            ],
            "metadata": {
                "language": "sql",
                "azdata_cell_guid": "332ce011-d6f0-4f10-8fd4-420d7419f349"
            },
            "attachments": {}
        },
        {
            "cell_type": "code",
            "source": [
                ""
            ],
            "metadata": {
                "azdata_cell_guid": "247d3e9c-30f9-4943-bb67-425e709231be",
                "language": "sql"
            },
            "outputs": [],
            "execution_count": null
        }
    ]
}