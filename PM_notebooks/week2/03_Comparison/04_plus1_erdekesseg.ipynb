{
    "metadata": {
        "kernelspec": {
            "name": "SQL",
            "display_name": "SQL",
            "language": "sql"
        },
        "language_info": {
            "name": "sql",
            "version": ""
        }
    },
    "nbformat_minor": 2,
    "nbformat": 4,
    "cells": [
        {
            "cell_type": "markdown",
            "source": [
                "# +1\n",
                "\n",
                "- recursion"
            ],
            "metadata": {
                "language": "sql",
                "azdata_cell_guid": "3c273fa6-b4b7-4a72-af1d-3c5bcbcd9895"
            },
            "attachments": {}
        },
        {
            "cell_type": "code",
            "source": [
                "WITH CTE_1 (iteration) AS(\n",
                "    --Base case\n",
                "    SELECT 1 AS iteration\n",
                "\n",
                "    UNION ALL\n",
                "\n",
                "    --Recursive case\n",
                "    SELECT iteration +1\n",
                "    FROM CTE_1\n",
                "    WHERE iteration < 3 -- Stopping condition\n",
                ")\n",
                "\n",
                "SELECT iteration\n",
                "FROM CTE_1\n",
                "ORDER BY iteration;"
            ],
            "metadata": {
                "azdata_cell_guid": "c9aed51d-60de-4dfb-abe4-75664d698679",
                "language": "sql"
            },
            "outputs": [
                {
                    "output_type": "display_data",
                    "data": {
                        "text/html": "(3 rows affected)"
                    },
                    "metadata": {}
                },
                {
                    "output_type": "display_data",
                    "data": {
                        "text/html": "Total execution time: 00:00:00.017"
                    },
                    "metadata": {}
                },
                {
                    "output_type": "execute_result",
                    "execution_count": 1,
                    "data": {
                        "application/vnd.dataresource+json": {
                            "schema": {
                                "fields": [
                                    {
                                        "name": "iteration"
                                    }
                                ]
                            },
                            "data": [
                                {
                                    "iteration": "1"
                                },
                                {
                                    "iteration": "2"
                                },
                                {
                                    "iteration": "3"
                                }
                            ]
                        },
                        "text/html": "<table><tr><th>iteration</th></tr><tr><td>1</td></tr><tr><td>2</td></tr><tr><td>3</td></tr></table>"
                    },
                    "metadata": {}
                }
            ],
            "execution_count": 1
        }
    ]
}