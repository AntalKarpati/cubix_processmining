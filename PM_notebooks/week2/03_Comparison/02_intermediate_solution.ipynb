{
    "metadata": {
        "kernelspec": {
            "name": "SQL",
            "display_name": "SQL",
            "language": "sql"
        },
        "language_info": {
            "name": "sql",
            "version": ""
        }
    },
    "nbformat_minor": 2,
    "nbformat": 4,
    "cells": [
        {
            "cell_type": "markdown",
            "source": [
                "Egy haladó megoldás:\n",
                "\n",
                "- Declare ( @@ global variable, @variable)\n",
                "- Cursor\n",
                "- while loop\n",
                "- Print"
            ],
            "metadata": {
                "language": "sql",
                "azdata_cell_guid": "073095a2-6f89-422c-8d6a-df29258a17c1"
            },
            "attachments": {}
        },
        {
            "cell_type": "code",
            "source": [
                "USE sql_recap;\n",
                "\n",
                "DECLARE @schema_name NVARCHAR(128) = 'dbo'; -- Állítsd be a kívánt sémát\n",
                "DECLARE @table_name NVARCHAR(128);\n",
                "DECLARE @row_count INT;\n",
                "DECLARE @sql NVARCHAR(MAX);\n",
                "\n",
                "-- Táblák lekérdezése a kívánt sémában\n",
                "DECLARE table_cursor CURSOR FOR\n",
                "SELECT table_name\n",
                "FROM information_schema.tables\n",
                "WHERE table_schema = @schema_name\n",
                "  AND table_type = 'BASE TABLE';\n",
                "\n",
                "-- A kurzor megnyitása\n",
                "OPEN table_cursor;\n",
                "-- Kurzor bejárása (soronként)\n",
                "FETCH NEXT FROM table_cursor INTO @table_name;\n",
                "\n",
                "-- WHILE ciklus, amíg van még tábla a kurzorban\n",
                "WHILE @@FETCH_STATUS = 0\n",
                "BEGIN\n",
                "    -- Dinamikus SQL készítése, hogy lekérdezd a sorok számát\n",
                "    SET @sql = 'SELECT @row_count_out = COUNT(*) FROM ' + QUOTENAME(@schema_name) + '.' + QUOTENAME(@table_name);\n",
                "\n",
                "    -- A dinamikus SQL végrehajtása\n",
                "    EXEC sp_executesql @sql, N'@row_count_out INT OUTPUT', @row_count OUTPUT;\n",
                "\n",
                "    -- Az eredmény kiírása\n",
                "    PRINT 'Table: ' + @table_name + ', Row Count: ' + CAST(@row_count AS NVARCHAR(20));\n",
                "\n",
                "    -- Következő tábla lekérdezése\n",
                "    FETCH NEXT FROM table_cursor INTO @table_name;\n",
                "END\n",
                "\n",
                "-- A kurzor bezárása és felszabadítása\n",
                "CLOSE table_cursor;\n",
                "DEALLOCATE table_cursor;\n",
                "\n",
                ""
            ],
            "metadata": {
                "azdata_cell_guid": "91fa20a4-f4b5-42c2-a024-0871071354d0",
                "language": "sql"
            },
            "outputs": [
                {
                    "output_type": "display_data",
                    "data": {
                        "text/html": "Table: customers, Row Count: 500"
                    },
                    "metadata": {}
                },
                {
                    "output_type": "display_data",
                    "data": {
                        "text/html": "Table: order_details, Row Count: 8981"
                    },
                    "metadata": {}
                },
                {
                    "output_type": "display_data",
                    "data": {
                        "text/html": "Table: orders, Row Count: 3000"
                    },
                    "metadata": {}
                },
                {
                    "output_type": "display_data",
                    "data": {
                        "text/html": "Table: products, Row Count: 200"
                    },
                    "metadata": {}
                },
                {
                    "output_type": "display_data",
                    "data": {
                        "text/html": "Total execution time: 00:00:00.032"
                    },
                    "metadata": {}
                }
            ],
            "execution_count": 1
        }
    ]
}