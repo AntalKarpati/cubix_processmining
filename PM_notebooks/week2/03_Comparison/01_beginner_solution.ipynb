{
    "metadata": {
        "kernelspec": {
            "name": "SQL",
            "display_name": "SQL",
            "language": "sql"
        },
        "language_info": {
            "name": "sql",
            "version": ""
        }
    },
    "nbformat_minor": 2,
    "nbformat": 4,
    "cells": [
        {
            "cell_type": "code",
            "source": [
                "USE sql_recap;\n",
                "\n",
                "SELECT COUNT(*) AS \"customers count\" FROM \"dbo\".\"customers\";\n",
                "SELECT COUNT(*) AS \"orders count\" FROM \"dbo\".\"orders\";\n",
                "SELECT COUNT(*) AS \"order_details count\" FROM \"dbo\".\"order_details\";\n",
                "SELECT COUNT(*) AS \"products count\" FROM \"dbo\".\"products\";"
            ],
            "metadata": {
                "azdata_cell_guid": "8b22c2d4-516e-4912-b692-5692cd10dbbb",
                "language": "sql"
            },
            "outputs": [],
            "execution_count": null
        }
    ]
}