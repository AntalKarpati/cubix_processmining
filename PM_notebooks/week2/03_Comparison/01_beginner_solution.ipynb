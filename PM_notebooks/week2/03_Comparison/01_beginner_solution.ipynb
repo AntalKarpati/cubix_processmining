{
    "metadata": {
        "kernelspec": {
            "name": "SQL",
            "display_name": "SQL",
            "language": "sql"
        },
        "language_info": {
            "name": "sql",
            "version": ""
        }
    },
    "nbformat_minor": 2,
    "nbformat": 4,
    "cells": [
        {
            "cell_type": "code",
            "source": [
                "USE sql_recap;\n",
                "\n",
                "SELECT COUNT(*) AS \"customers count\" FROM \"dbo\".\"customers\";\n",
                "SELECT COUNT(*) AS \"orders count\" FROM \"dbo\".\"orders\";\n",
                "SELECT COUNT(*) AS \"order_details count\" FROM \"dbo\".\"order_details\";\n",
                "SELECT COUNT(*) AS \"products count\" FROM \"dbo\".\"products\";"
            ],
            "metadata": {
                "azdata_cell_guid": "8b22c2d4-516e-4912-b692-5692cd10dbbb",
                "language": "sql"
            },
            "outputs": [
                {
                    "output_type": "display_data",
                    "data": {
                        "text/html": "(1 row affected)"
                    },
                    "metadata": {}
                },
                {
                    "output_type": "display_data",
                    "data": {
                        "text/html": "(1 row affected)"
                    },
                    "metadata": {}
                },
                {
                    "output_type": "display_data",
                    "data": {
                        "text/html": "(1 row affected)"
                    },
                    "metadata": {}
                },
                {
                    "output_type": "display_data",
                    "data": {
                        "text/html": "(1 row affected)"
                    },
                    "metadata": {}
                },
                {
                    "output_type": "display_data",
                    "data": {
                        "text/html": "Total execution time: 00:00:00.019"
                    },
                    "metadata": {}
                },
                {
                    "output_type": "execute_result",
                    "metadata": {},
                    "execution_count": 1,
                    "data": {
                        "application/vnd.dataresource+json": {
                            "schema": {
                                "fields": [
                                    {
                                        "name": "customers count"
                                    }
                                ]
                            },
                            "data": [
                                {
                                    "customers count": "500"
                                }
                            ]
                        },
                        "text/html": [
                            "<table>",
                            "<tr><th>customers count</th></tr>",
                            "<tr><td>500</td></tr>",
                            "</table>"
                        ]
                    }
                },
                {
                    "output_type": "execute_result",
                    "metadata": {},
                    "execution_count": 1,
                    "data": {
                        "application/vnd.dataresource+json": {
                            "schema": {
                                "fields": [
                                    {
                                        "name": "orders count"
                                    }
                                ]
                            },
                            "data": [
                                {
                                    "orders count": "3000"
                                }
                            ]
                        },
                        "text/html": [
                            "<table>",
                            "<tr><th>orders count</th></tr>",
                            "<tr><td>3000</td></tr>",
                            "</table>"
                        ]
                    }
                },
                {
                    "output_type": "execute_result",
                    "metadata": {},
                    "execution_count": 1,
                    "data": {
                        "application/vnd.dataresource+json": {
                            "schema": {
                                "fields": [
                                    {
                                        "name": "order_details count"
                                    }
                                ]
                            },
                            "data": [
                                {
                                    "order_details count": "8981"
                                }
                            ]
                        },
                        "text/html": [
                            "<table>",
                            "<tr><th>order_details count</th></tr>",
                            "<tr><td>8981</td></tr>",
                            "</table>"
                        ]
                    }
                },
                {
                    "output_type": "execute_result",
                    "metadata": {},
                    "execution_count": 1,
                    "data": {
                        "application/vnd.dataresource+json": {
                            "schema": {
                                "fields": [
                                    {
                                        "name": "products count"
                                    }
                                ]
                            },
                            "data": [
                                {
                                    "products count": "200"
                                }
                            ]
                        },
                        "text/html": [
                            "<table>",
                            "<tr><th>products count</th></tr>",
                            "<tr><td>200</td></tr>",
                            "</table>"
                        ]
                    }
                }
            ],
            "execution_count": 1
        }
    ]
}