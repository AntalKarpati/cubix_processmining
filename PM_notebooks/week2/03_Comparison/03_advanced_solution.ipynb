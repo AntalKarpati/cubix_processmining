{
    "metadata": {
        "kernelspec": {
            "name": "SQL",
            "display_name": "SQL",
            "language": "sql"
        },
        "language_info": {
            "name": "sql",
            "version": ""
        }
    },
    "nbformat_minor": 2,
    "nbformat": 4,
    "cells": [
        {
            "cell_type": "markdown",
            "source": [
                "## Advanced way"
            ],
            "metadata": {
                "language": "sql",
                "azdata_cell_guid": "85d13dd7-dbf1-4d2d-b11c-e8b327818ce9"
            },
            "attachments": {}
        },
        {
            "cell_type": "markdown",
            "source": [
                "- While loop\n",
                "- Declare variables\n",
                "- Stored Procedure"
            ],
            "metadata": {
                "language": "sql",
                "azdata_cell_guid": "a2aaa888-f193-4eb4-bcae-4012dbbec059"
            },
            "attachments": {}
        },
        {
            "cell_type": "code",
            "source": [
                "CREATE PROCEDURE GetTableRowCounts -- Procedúra készítése, és elnevezése\n",
                "    @schema_name NVARCHAR(128)  -- A séma neve, amire szeretnél lekérdezni\n",
                "AS\n",
                "BEGIN\n",
                "    DECLARE @table_name NVARCHAR(128);\n",
                "    DECLARE @row_count INT;\n",
                "    DECLARE @sql NVARCHAR(MAX);\n",
                "\n",
                "    -- Kurzor létrehozása, amely az adott séma tábláinak neveit tartalmazza\n",
                "    DECLARE table_cursor CURSOR FOR\n",
                "    SELECT table_name\n",
                "    FROM information_schema.tables\n",
                "    WHERE table_schema = @schema_name\n",
                "      AND table_type = 'BASE TABLE';\n",
                "\n",
                "    OPEN table_cursor;\n",
                "    FETCH NEXT FROM table_cursor INTO @table_name;\n",
                "\n",
                "    -- Ciklus, amely végigmegy az összes táblán\n",
                "    WHILE @@FETCH_STATUS = 0\n",
                "    BEGIN\n",
                "        -- Dinamikus SQL a COUNT(*) végrehajtásához\n",
                "        SET @sql = 'SELECT @row_count_out = COUNT(*) FROM ' + QUOTENAME(@schema_name) + '.' + QUOTENAME(@table_name);\n",
                "        \n",
                "        -- Dinamikus SQL végrehajtása, sorok számának lekérdezése\n",
                "        EXEC sp_executesql @sql, N'@row_count_out INT OUTPUT', @row_count OUTPUT;\n",
                "\n",
                "        -- Eredmény kiírása\n",
                "        PRINT 'Table: ' + @table_name + ', Row Count: ' + CAST(@row_count AS NVARCHAR(20));\n",
                "\n",
                "        -- Következő tábla\n",
                "        FETCH NEXT FROM table_cursor INTO @table_name;\n",
                "    END\n",
                "\n",
                "    -- Kurzor lezárása és felszabadítása\n",
                "    CLOSE table_cursor;\n",
                "    DEALLOCATE table_cursor;\n",
                "END;\n",
                ""
            ],
            "metadata": {
                "language": "sql",
                "azdata_cell_guid": "03db00cd-a872-4e8d-86c2-dec6639c1d71",
                "tags": []
            },
            "outputs": [
                {
                    "output_type": "error",
                    "evalue": "Msg 2714, Level 16, State 3, Procedure GetTableRowCounts, Line 1\nThere is already an object named 'GetTableRowCounts' in the database.",
                    "ename": "",
                    "traceback": []
                },
                {
                    "output_type": "display_data",
                    "data": {
                        "text/html": "Total execution time: 00:00:00.072"
                    },
                    "metadata": {}
                }
            ],
            "execution_count": 5
        },
        {
            "cell_type": "markdown",
            "source": [
                "## A tárolt eljárás meghívása"
            ],
            "metadata": {
                "language": "sql",
                "azdata_cell_guid": "b876b568-d2be-42aa-86c2-bbd4627160d1"
            },
            "attachments": {}
        },
        {
            "cell_type": "code",
            "source": [
                "-- Példa a 'dbo' séma tábláinak lekérdezésére\n",
                "\n",
                "USE sql_recap;\n",
                "EXEC GetTableRowCounts @schema_name = 'dbo';\n",
                ""
            ],
            "metadata": {
                "language": "sql",
                "azdata_cell_guid": "786543d2-c383-4f5c-85c1-efa9d0e84f3f",
                "tags": []
            },
            "outputs": [
                {
                    "output_type": "display_data",
                    "data": {
                        "text/html": "Table: customers, Row Count: 500"
                    },
                    "metadata": {}
                },
                {
                    "output_type": "display_data",
                    "data": {
                        "text/html": "Table: order_details, Row Count: 8981"
                    },
                    "metadata": {}
                },
                {
                    "output_type": "display_data",
                    "data": {
                        "text/html": "Table: orders, Row Count: 3000"
                    },
                    "metadata": {}
                },
                {
                    "output_type": "display_data",
                    "data": {
                        "text/html": "Table: products, Row Count: 200"
                    },
                    "metadata": {}
                },
                {
                    "output_type": "display_data",
                    "data": {
                        "text/html": "Total execution time: 00:00:00.028"
                    },
                    "metadata": {}
                }
            ],
            "execution_count": 6
        }
    ]
}