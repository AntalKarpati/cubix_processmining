{
    "metadata": {
        "kernelspec": {
            "name": "SQL",
            "display_name": "SQL",
            "language": "sql"
        },
        "language_info": {
            "name": "sql",
            "version": ""
        }
    },
    "nbformat_minor": 2,
    "nbformat": 4,
    "cells": [
        {
            "cell_type": "markdown",
            "source": [
                "# Feladat: Írjuk ki egy tetszőleges adatbázisban lévő összes tábla sorainak számát"
            ],
            "metadata": {
                "azdata_cell_guid": "e5068b16-199c-4098-b85e-10ebdfe7a71d"
            },
            "attachments": {}
        },
        {
            "cell_type": "markdown",
            "source": [
                "Listázzuk ki a táblákat, hogy értsük mit keresünk:"
            ],
            "metadata": {
                "language": "sql",
                "azdata_cell_guid": "f3b30f58-7900-4490-9684-7e8a82cbff1a"
            },
            "attachments": {}
        },
        {
            "cell_type": "code",
            "source": [
                "--CTE - Common Table Expressions\n",
                "\n",
                "USE sql_recap;  -- Váltás a sql_recap adatbázisra\n",
                "WITH table_list AS (\n",
                "SELECT table_catalog AS [database], \n",
                "    table_schema AS [schema], \n",
                "    table_name AS [name], \n",
                "    table_type AS [type]\n",
                "FROM INFORMATION_SCHEMA.TABLES)\n",
                "\n",
                "SELECT * FROM table_list;"
            ],
            "metadata": {
                "azdata_cell_guid": "0e6bd2ac-9d83-47d4-8e05-59959e73ce7d",
                "language": "sql"
            },
            "outputs": [
                {
                    "output_type": "display_data",
                    "data": {
                        "text/html": "(4 rows affected)"
                    },
                    "metadata": {}
                },
                {
                    "output_type": "display_data",
                    "data": {
                        "text/html": "Total execution time: 00:00:00.026"
                    },
                    "metadata": {}
                },
                {
                    "output_type": "execute_result",
                    "metadata": {},
                    "execution_count": 1,
                    "data": {
                        "application/vnd.dataresource+json": {
                            "schema": {
                                "fields": [
                                    {
                                        "name": "database"
                                    },
                                    {
                                        "name": "schema"
                                    },
                                    {
                                        "name": "name"
                                    },
                                    {
                                        "name": "type"
                                    }
                                ]
                            },
                            "data": [
                                {
                                    "database": "sql_recap",
                                    "schema": "dbo",
                                    "name": "customers",
                                    "type": "BASE TABLE"
                                },
                                {
                                    "database": "sql_recap",
                                    "schema": "dbo",
                                    "name": "order_details",
                                    "type": "BASE TABLE"
                                },
                                {
                                    "database": "sql_recap",
                                    "schema": "dbo",
                                    "name": "orders",
                                    "type": "BASE TABLE"
                                },
                                {
                                    "database": "sql_recap",
                                    "schema": "dbo",
                                    "name": "products",
                                    "type": "BASE TABLE"
                                }
                            ]
                        },
                        "text/html": [
                            "<table>",
                            "<tr><th>database</th><th>schema</th><th>name</th><th>type</th></tr>",
                            "<tr><td>sql_recap</td><td>dbo</td><td>customers</td><td>BASE TABLE</td></tr>",
                            "<tr><td>sql_recap</td><td>dbo</td><td>order_details</td><td>BASE TABLE</td></tr>",
                            "<tr><td>sql_recap</td><td>dbo</td><td>orders</td><td>BASE TABLE</td></tr>",
                            "<tr><td>sql_recap</td><td>dbo</td><td>products</td><td>BASE TABLE</td></tr>",
                            "</table>"
                        ]
                    }
                }
            ],
            "execution_count": 1
        }
    ]
}