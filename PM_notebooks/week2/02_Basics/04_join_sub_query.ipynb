{
    "metadata": {
        "kernelspec": {
            "name": "SQL",
            "display_name": "SQL",
            "language": "sql"
        },
        "language_info": {
            "name": "sql",
            "version": ""
        }
    },
    "nbformat_minor": 2,
    "nbformat": 4,
    "cells": [
        {
            "cell_type": "markdown",
            "source": [
                "# Join tables, and queries together"
            ],
            "metadata": {
                "azdata_cell_guid": "c7fe3ca6-3a18-4441-b7e3-c83b26e883a4"
            },
            "attachments": {}
        },
        {
            "cell_type": "code",
            "source": [
                ""
            ],
            "metadata": {
                "azdata_cell_guid": "dd07fcb3-2f2c-4971-a25e-bfc84d3acd33",
                "language": "sql"
            },
            "outputs": [],
            "execution_count": null
        }
    ]
}