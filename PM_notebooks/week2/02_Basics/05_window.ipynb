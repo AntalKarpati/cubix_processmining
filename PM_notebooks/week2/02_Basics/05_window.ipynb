{
    "metadata": {
        "kernelspec": {
            "name": "SQL",
            "display_name": "SQL",
            "language": "sql"
        },
        "language_info": {
            "name": "sql",
            "version": ""
        }
    },
    "nbformat_minor": 2,
    "nbformat": 4,
    "cells": [
        {
            "cell_type": "markdown",
            "source": [
                "# Working row based inside the table (in a window)"
            ],
            "metadata": {
                "azdata_cell_guid": "bfe8d56e-901c-4726-8947-a4d9bd85638c"
            },
            "attachments": {}
        },
        {
            "cell_type": "markdown",
            "source": [
                "Previous row, next row"
            ],
            "metadata": {
                "language": "sql",
                "azdata_cell_guid": "c41b98f0-6eea-4206-9251-4b85d8938318"
            },
            "attachments": {}
        },
        {
            "cell_type": "code",
            "source": [
                ""
            ],
            "metadata": {
                "language": "sql",
                "azdata_cell_guid": "fce7d880-eca2-42d1-88cc-82cb913ac535"
            },
            "outputs": [],
            "execution_count": null
        },
        {
            "cell_type": "markdown",
            "source": [
                "Ranking"
            ],
            "metadata": {
                "language": "sql",
                "azdata_cell_guid": "bb7aa34c-49b9-4dff-bae8-65308f9ad385"
            },
            "attachments": {}
        },
        {
            "cell_type": "code",
            "source": [
                ""
            ],
            "metadata": {
                "azdata_cell_guid": "7c534aed-1e00-4e98-8a9c-2794ad77a362",
                "language": "sql"
            },
            "outputs": [],
            "execution_count": null
        }
    ]
}