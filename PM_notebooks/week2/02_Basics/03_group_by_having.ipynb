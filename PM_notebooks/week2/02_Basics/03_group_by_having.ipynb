{
    "metadata": {
        "kernelspec": {
            "name": "SQL",
            "display_name": "SQL",
            "language": "sql"
        },
        "language_info": {
            "name": "sql",
            "version": ""
        }
    },
    "nbformat_minor": 2,
    "nbformat": 4,
    "cells": [
        {
            "cell_type": "markdown",
            "source": [
                "# Aggregating and filtering the aggregations"
            ],
            "metadata": {
                "azdata_cell_guid": "cdf89114-3c48-4a44-9482-df0b7df2a7e2"
            },
            "attachments": {}
        },
        {
            "cell_type": "code",
            "source": [
                "select year, total_count\n",
                "from(\n",
                "SELECT \n",
                "    country,\n",
                "    YEAR(signup_date) as year, \n",
                "    COUNT(*) AS total_count\n",
                "FROM \n",
                "    [sql_recap].[dbo].[customers] as c\n",
                "GROUP BY \n",
                "    country, YEAR(signup_date)\n",
                "HAVING\n",
                "    country = 'Hungary'  ) as sub\n",
                "  ;  \n",
                "\n",
                "\n",
                "--teszt komment\n",
                "--méggegy teszt komment\n",
                "-- teszt komment 3   \n",
                "-- kommetn 4 \n",
                "-- komment 5"
            ],
            "metadata": {
                "azdata_cell_guid": "85f67dd3-2b90-470c-827f-6b47c75be8aa",
                "language": "sql"
            },
            "outputs": [
                {
                    "output_type": "display_data",
                    "data": {
                        "text/html": "(5 rows affected)"
                    },
                    "metadata": {}
                },
                {
                    "output_type": "display_data",
                    "data": {
                        "text/html": "Total execution time: 00:00:00.003"
                    },
                    "metadata": {}
                },
                {
                    "output_type": "execute_result",
                    "metadata": {},
                    "execution_count": 1,
                    "data": {
                        "application/vnd.dataresource+json": {
                            "schema": {
                                "fields": [
                                    {
                                        "name": "year"
                                    },
                                    {
                                        "name": "total_count"
                                    }
                                ]
                            },
                            "data": [
                                {
                                    "year": "2020",
                                    "total_count": "20"
                                },
                                {
                                    "year": "2021",
                                    "total_count": "10"
                                },
                                {
                                    "year": "2022",
                                    "total_count": "16"
                                },
                                {
                                    "year": "2023",
                                    "total_count": "19"
                                },
                                {
                                    "year": "2024",
                                    "total_count": "17"
                                }
                            ]
                        },
                        "text/html": [
                            "<table>",
                            "<tr><th>year</th><th>total_count</th></tr>",
                            "<tr><td>2020</td><td>20</td></tr>",
                            "<tr><td>2021</td><td>10</td></tr>",
                            "<tr><td>2022</td><td>16</td></tr>",
                            "<tr><td>2023</td><td>19</td></tr>",
                            "<tr><td>2024</td><td>17</td></tr>",
                            "</table>"
                        ]
                    }
                }
            ],
            "execution_count": 1
        }
    ]
}