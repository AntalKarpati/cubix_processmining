{
    "metadata": {
        "kernelspec": {
            "name": "SQL",
            "display_name": "SQL",
            "language": "sql"
        },
        "language_info": {
            "name": "sql",
            "version": ""
        }
    },
    "nbformat_minor": 2,
    "nbformat": 4,
    "cells": [
        {
            "cell_type": "markdown",
            "source": [
                "# Aggregating and filtering the aggregations"
            ],
            "metadata": {
                "azdata_cell_guid": "cdf89114-3c48-4a44-9482-df0b7df2a7e2"
            },
            "attachments": {}
        },
        {
            "cell_type": "code",
            "source": [
                ""
            ],
            "metadata": {
                "azdata_cell_guid": "85f67dd3-2b90-470c-827f-6b47c75be8aa",
                "language": "sql"
            },
            "outputs": [],
            "execution_count": null
        }
    ]
}