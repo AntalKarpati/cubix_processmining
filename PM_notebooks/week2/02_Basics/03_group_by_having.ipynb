{
    "metadata": {
        "kernelspec": {
            "name": "SQL",
            "display_name": "SQL",
            "language": "sql"
        },
        "language_info": {
            "name": "sql",
            "version": ""
        }
    },
    "nbformat_minor": 2,
    "nbformat": 4,
    "cells": [
        {
            "cell_type": "markdown",
            "source": [
                "# Aggregating and filtering the aggregations"
            ],
            "metadata": {
                "azdata_cell_guid": "cdf89114-3c48-4a44-9482-df0b7df2a7e2"
            },
            "attachments": {}
        },
        {
            "cell_type": "code",
            "source": [
                "select country , YEAR(signup_date) as 'year_signup' ,count(*) as 'darab'\n",
                "FROM sql_recap.dbo.customers\n",
                "GROUP BY country, YEAR(signup_date) \n",
                "HAVING YEAR(signup_date) = '2021'\n",
                "ORDER BY year_signup\n",
                ""
            ],
            "metadata": {
                "azdata_cell_guid": "85f67dd3-2b90-470c-827f-6b47c75be8aa",
                "language": "sql"
            },
            "outputs": [
                {
                    "output_type": "display_data",
                    "data": {
                        "text/html": "(5 rows affected)"
                    },
                    "metadata": {}
                },
                {
                    "output_type": "display_data",
                    "data": {
                        "text/html": "Total execution time: 00:00:00.058"
                    },
                    "metadata": {}
                },
                {
                    "output_type": "execute_result",
                    "metadata": {},
                    "execution_count": 10,
                    "data": {
                        "application/vnd.dataresource+json": {
                            "schema": {
                                "fields": [
                                    {
                                        "name": "country"
                                    },
                                    {
                                        "name": "year_signup"
                                    },
                                    {
                                        "name": "darab"
                                    }
                                ]
                            },
                            "data": [
                                {
                                    "country": "France",
                                    "year_signup": "2021",
                                    "darab": "15"
                                },
                                {
                                    "country": "Germany",
                                    "year_signup": "2021",
                                    "darab": "27"
                                },
                                {
                                    "country": "Hungary",
                                    "year_signup": "2021",
                                    "darab": "10"
                                },
                                {
                                    "country": "UK",
                                    "year_signup": "2021",
                                    "darab": "26"
                                },
                                {
                                    "country": "USA",
                                    "year_signup": "2021",
                                    "darab": "13"
                                }
                            ]
                        },
                        "text/html": [
                            "<table>",
                            "<tr><th>country</th><th>year_signup</th><th>darab</th></tr>",
                            "<tr><td>France</td><td>2021</td><td>15</td></tr>",
                            "<tr><td>Germany</td><td>2021</td><td>27</td></tr>",
                            "<tr><td>Hungary</td><td>2021</td><td>10</td></tr>",
                            "<tr><td>UK</td><td>2021</td><td>26</td></tr>",
                            "<tr><td>USA</td><td>2021</td><td>13</td></tr>",
                            "</table>"
                        ]
                    }
                }
            ],
            "execution_count": 10
        },
        {
            "cell_type": "code",
            "source": [
                "SELECT DISTINCT COUNT(*) as 'darab_össz_egyéni'\n",
                "from sql_recap.dbo.customers\n",
                "\n",
                "SELECT COUNT(*) as 'darab_össz'\n",
                "from sql_recap.dbo.customers"
            ],
            "metadata": {
                "language": "sql",
                "azdata_cell_guid": "33cb4fed-5239-43e5-969a-302a28a8a1a0"
            },
            "outputs": [
                {
                    "output_type": "display_data",
                    "data": {
                        "text/html": "(1 row affected)"
                    },
                    "metadata": {}
                },
                {
                    "output_type": "display_data",
                    "data": {
                        "text/html": "(1 row affected)"
                    },
                    "metadata": {}
                },
                {
                    "output_type": "display_data",
                    "data": {
                        "text/html": "Total execution time: 00:00:00.035"
                    },
                    "metadata": {}
                },
                {
                    "output_type": "execute_result",
                    "metadata": {},
                    "execution_count": 7,
                    "data": {
                        "application/vnd.dataresource+json": {
                            "schema": {
                                "fields": [
                                    {
                                        "name": "darab_össz_egyéni"
                                    }
                                ]
                            },
                            "data": [
                                {
                                    "darab_össz_egyéni": "500"
                                }
                            ]
                        },
                        "text/html": [
                            "<table>",
                            "<tr><th>darab_össz_egyéni</th></tr>",
                            "<tr><td>500</td></tr>",
                            "</table>"
                        ]
                    }
                },
                {
                    "output_type": "execute_result",
                    "metadata": {},
                    "execution_count": 7,
                    "data": {
                        "application/vnd.dataresource+json": {
                            "schema": {
                                "fields": [
                                    {
                                        "name": "darab_össz"
                                    }
                                ]
                            },
                            "data": [
                                {
                                    "darab_össz": "500"
                                }
                            ]
                        },
                        "text/html": [
                            "<table>",
                            "<tr><th>darab_össz</th></tr>",
                            "<tr><td>500</td></tr>",
                            "</table>"
                        ]
                    }
                }
            ],
            "execution_count": 7
        },
        {
            "cell_type": "code",
            "source": [
                "select category, COUNT(*) as 'darab'\n",
                "from sql_recap.dbo.products\n",
                "GROUP BY category\n",
                "ORDER BY darab"
            ],
            "metadata": {
                "language": "sql",
                "azdata_cell_guid": "efdb869b-9647-4b3f-b088-b82bd98f1610"
            },
            "outputs": [
                {
                    "output_type": "display_data",
                    "data": {
                        "text/html": "(5 rows affected)"
                    },
                    "metadata": {}
                },
                {
                    "output_type": "display_data",
                    "data": {
                        "text/html": "Total execution time: 00:00:00.035"
                    },
                    "metadata": {}
                },
                {
                    "output_type": "execute_result",
                    "metadata": {},
                    "execution_count": 12,
                    "data": {
                        "application/vnd.dataresource+json": {
                            "schema": {
                                "fields": [
                                    {
                                        "name": "category"
                                    },
                                    {
                                        "name": "darab"
                                    }
                                ]
                            },
                            "data": [
                                {
                                    "category": "Clothing",
                                    "darab": "35"
                                },
                                {
                                    "category": "Electronics",
                                    "darab": "41"
                                },
                                {
                                    "category": "Furniture",
                                    "darab": "41"
                                },
                                {
                                    "category": "Toys",
                                    "darab": "41"
                                },
                                {
                                    "category": "Books",
                                    "darab": "42"
                                }
                            ]
                        },
                        "text/html": [
                            "<table>",
                            "<tr><th>category</th><th>darab</th></tr>",
                            "<tr><td>Clothing</td><td>35</td></tr>",
                            "<tr><td>Electronics</td><td>41</td></tr>",
                            "<tr><td>Furniture</td><td>41</td></tr>",
                            "<tr><td>Toys</td><td>41</td></tr>",
                            "<tr><td>Books</td><td>42</td></tr>",
                            "</table>"
                        ]
                    }
                }
            ],
            "execution_count": 12
        }
    ]
}