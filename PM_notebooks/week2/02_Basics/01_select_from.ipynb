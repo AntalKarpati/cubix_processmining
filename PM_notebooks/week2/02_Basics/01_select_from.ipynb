{
    "metadata": {
        "kernelspec": {
            "name": "SQL",
            "display_name": "SQL",
            "language": "sql"
        },
        "language_info": {
            "name": "sql",
            "version": ""
        }
    },
    "nbformat_minor": 2,
    "nbformat": 4,
    "cells": [
        {
            "cell_type": "markdown",
            "source": [
                "# Selecting data from table"
            ],
            "metadata": {
                "azdata_cell_guid": "f72349b3-c139-4998-b9cf-9bdcd87e5c2e"
            },
            "attachments": {}
        },
        {
            "cell_type": "code",
            "source": [
                ""
            ],
            "metadata": {
                "azdata_cell_guid": "216adf4d-d3da-47e2-a5dc-64ccf6129577",
                "language": "sql"
            },
            "outputs": [],
            "execution_count": null
        }
    ]
}