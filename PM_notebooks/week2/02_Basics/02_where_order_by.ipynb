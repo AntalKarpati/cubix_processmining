{
    "metadata": {
        "kernelspec": {
            "name": "SQL",
            "display_name": "SQL",
            "language": "sql"
        },
        "language_info": {
            "name": "sql",
            "version": ""
        }
    },
    "nbformat_minor": 2,
    "nbformat": 4,
    "cells": [
        {
            "cell_type": "markdown",
            "source": [
                "# Filtering, ordering"
            ],
            "metadata": {
                "azdata_cell_guid": "3781f039-014d-461b-99cb-769f83a5621e"
            },
            "attachments": {}
        },
        {
            "cell_type": "code",
            "source": [
                "SELECT DISTINCT country\n",
                "FROM [sql_recap].[dbo].[customers];"
            ],
            "metadata": {
                "azdata_cell_guid": "c62c358c-6cf0-4d5a-a919-83082ca8e5e6",
                "language": "sql"
            },
            "outputs": [
                {
                    "output_type": "display_data",
                    "data": {
                        "text/html": "(5 rows affected)"
                    },
                    "metadata": {}
                },
                {
                    "output_type": "display_data",
                    "data": {
                        "text/html": "Total execution time: 00:00:00.069"
                    },
                    "metadata": {}
                },
                {
                    "output_type": "execute_result",
                    "metadata": {},
                    "execution_count": 1,
                    "data": {
                        "application/vnd.dataresource+json": {
                            "schema": {
                                "fields": [
                                    {
                                        "name": "country"
                                    }
                                ]
                            },
                            "data": [
                                {
                                    "country": "France"
                                },
                                {
                                    "country": "Germany"
                                },
                                {
                                    "country": "Hungary"
                                },
                                {
                                    "country": "UK"
                                },
                                {
                                    "country": "USA"
                                }
                            ]
                        },
                        "text/html": [
                            "<table>",
                            "<tr><th>country</th></tr>",
                            "<tr><td>France</td></tr>",
                            "<tr><td>Germany</td></tr>",
                            "<tr><td>Hungary</td></tr>",
                            "<tr><td>UK</td></tr>",
                            "<tr><td>USA</td></tr>",
                            "</table>"
                        ]
                    }
                }
            ],
            "execution_count": 1
        },
        {
            "cell_type": "code",
            "source": [
                "SELECT *\n",
                "FROM sql_recap.dbo.customers\n",
                "WHERE country = 'France' and YEAR(signup_date) = '2020'\n",
                ";"
            ],
            "metadata": {
                "language": "sql",
                "azdata_cell_guid": "fad5fa3c-9970-40ae-b2d8-9ef2023fa996"
            },
            "outputs": [
                {
                    "output_type": "display_data",
                    "data": {
                        "text/html": "(22 rows affected)"
                    },
                    "metadata": {}
                },
                {
                    "output_type": "display_data",
                    "data": {
                        "text/html": "Total execution time: 00:00:00.064"
                    },
                    "metadata": {}
                },
                {
                    "output_type": "execute_result",
                    "metadata": {},
                    "execution_count": 5,
                    "data": {
                        "application/vnd.dataresource+json": {
                            "schema": {
                                "fields": [
                                    {
                                        "name": "customer_id"
                                    },
                                    {
                                        "name": "name"
                                    },
                                    {
                                        "name": "signup_date"
                                    },
                                    {
                                        "name": "country"
                                    }
                                ]
                            },
                            "data": [
                                {
                                    "customer_id": "1",
                                    "name": "Dr. Erin Preston DDS",
                                    "signup_date": "2020-06-26",
                                    "country": "France"
                                },
                                {
                                    "customer_id": "41",
                                    "name": "David Everett",
                                    "signup_date": "2020-03-06",
                                    "country": "France"
                                },
                                {
                                    "customer_id": "70",
                                    "name": "Pamela Allen",
                                    "signup_date": "2020-04-13",
                                    "country": "France"
                                },
                                {
                                    "customer_id": "78",
                                    "name": "Lindsey Ellison",
                                    "signup_date": "2020-04-23",
                                    "country": "France"
                                },
                                {
                                    "customer_id": "95",
                                    "name": "Zachary Black",
                                    "signup_date": "2020-03-30",
                                    "country": "France"
                                },
                                {
                                    "customer_id": "128",
                                    "name": "Kyle Farley",
                                    "signup_date": "2020-05-07",
                                    "country": "France"
                                },
                                {
                                    "customer_id": "145",
                                    "name": "Mason Strickland",
                                    "signup_date": "2020-05-23",
                                    "country": "France"
                                },
                                {
                                    "customer_id": "152",
                                    "name": "Carla Lopez",
                                    "signup_date": "2020-06-19",
                                    "country": "France"
                                },
                                {
                                    "customer_id": "172",
                                    "name": "Alicia Chavez",
                                    "signup_date": "2020-07-02",
                                    "country": "France"
                                },
                                {
                                    "customer_id": "178",
                                    "name": "Matthew Murphy",
                                    "signup_date": "2020-11-12",
                                    "country": "France"
                                },
                                {
                                    "customer_id": "195",
                                    "name": "Alyssa Lewis",
                                    "signup_date": "2020-09-04",
                                    "country": "France"
                                },
                                {
                                    "customer_id": "326",
                                    "name": "Angela Atkins",
                                    "signup_date": "2020-02-01",
                                    "country": "France"
                                },
                                {
                                    "customer_id": "333",
                                    "name": "James Pierce",
                                    "signup_date": "2020-07-27",
                                    "country": "France"
                                },
                                {
                                    "customer_id": "373",
                                    "name": "Laura Lyons",
                                    "signup_date": "2020-12-19",
                                    "country": "France"
                                },
                                {
                                    "customer_id": "389",
                                    "name": "Christina Meyers",
                                    "signup_date": "2020-08-28",
                                    "country": "France"
                                },
                                {
                                    "customer_id": "393",
                                    "name": "Barbara Garcia",
                                    "signup_date": "2020-08-15",
                                    "country": "France"
                                },
                                {
                                    "customer_id": "426",
                                    "name": "Alyssa Norman",
                                    "signup_date": "2020-06-29",
                                    "country": "France"
                                },
                                {
                                    "customer_id": "459",
                                    "name": "Cynthia Roth",
                                    "signup_date": "2020-05-23",
                                    "country": "France"
                                },
                                {
                                    "customer_id": "464",
                                    "name": "Gregory Bennett",
                                    "signup_date": "2020-08-11",
                                    "country": "France"
                                },
                                {
                                    "customer_id": "479",
                                    "name": "Mr. Benjamin Malone",
                                    "signup_date": "2020-11-16",
                                    "country": "France"
                                },
                                {
                                    "customer_id": "482",
                                    "name": "Morgan Lane",
                                    "signup_date": "2020-08-11",
                                    "country": "France"
                                },
                                {
                                    "customer_id": "492",
                                    "name": "Lisa Wagner",
                                    "signup_date": "2020-09-03",
                                    "country": "France"
                                }
                            ]
                        },
                        "text/html": [
                            "<table>",
                            "<tr><th>customer_id</th><th>name</th><th>signup_date</th><th>country</th></tr>",
                            "<tr><td>1</td><td>Dr. Erin Preston DDS</td><td>2020-06-26</td><td>France</td></tr>",
                            "<tr><td>41</td><td>David Everett</td><td>2020-03-06</td><td>France</td></tr>",
                            "<tr><td>70</td><td>Pamela Allen</td><td>2020-04-13</td><td>France</td></tr>",
                            "<tr><td>78</td><td>Lindsey Ellison</td><td>2020-04-23</td><td>France</td></tr>",
                            "<tr><td>95</td><td>Zachary Black</td><td>2020-03-30</td><td>France</td></tr>",
                            "<tr><td>128</td><td>Kyle Farley</td><td>2020-05-07</td><td>France</td></tr>",
                            "<tr><td>145</td><td>Mason Strickland</td><td>2020-05-23</td><td>France</td></tr>",
                            "<tr><td>152</td><td>Carla Lopez</td><td>2020-06-19</td><td>France</td></tr>",
                            "<tr><td>172</td><td>Alicia Chavez</td><td>2020-07-02</td><td>France</td></tr>",
                            "<tr><td>178</td><td>Matthew Murphy</td><td>2020-11-12</td><td>France</td></tr>",
                            "<tr><td>195</td><td>Alyssa Lewis</td><td>2020-09-04</td><td>France</td></tr>",
                            "<tr><td>326</td><td>Angela Atkins</td><td>2020-02-01</td><td>France</td></tr>",
                            "<tr><td>333</td><td>James Pierce</td><td>2020-07-27</td><td>France</td></tr>",
                            "<tr><td>373</td><td>Laura Lyons</td><td>2020-12-19</td><td>France</td></tr>",
                            "<tr><td>389</td><td>Christina Meyers</td><td>2020-08-28</td><td>France</td></tr>",
                            "<tr><td>393</td><td>Barbara Garcia</td><td>2020-08-15</td><td>France</td></tr>",
                            "<tr><td>426</td><td>Alyssa Norman</td><td>2020-06-29</td><td>France</td></tr>",
                            "<tr><td>459</td><td>Cynthia Roth</td><td>2020-05-23</td><td>France</td></tr>",
                            "<tr><td>464</td><td>Gregory Bennett</td><td>2020-08-11</td><td>France</td></tr>",
                            "<tr><td>479</td><td>Mr. Benjamin Malone</td><td>2020-11-16</td><td>France</td></tr>",
                            "<tr><td>482</td><td>Morgan Lane</td><td>2020-08-11</td><td>France</td></tr>",
                            "<tr><td>492</td><td>Lisa Wagner</td><td>2020-09-03</td><td>France</td></tr>",
                            "</table>"
                        ]
                    }
                }
            ],
            "execution_count": 5
        },
        {
            "cell_type": "code",
            "source": [
                "SELECT MAX(product_name) as 'max'\n",
                "FROM sql_recap.dbo.products\n",
                "WHERE category = 'Toys'"
            ],
            "metadata": {
                "language": "sql",
                "azdata_cell_guid": "f3ec2149-8e9c-42e0-9f6d-59969d40debd"
            },
            "outputs": [
                {
                    "output_type": "display_data",
                    "data": {
                        "text/html": "(1 row affected)"
                    },
                    "metadata": {}
                },
                {
                    "output_type": "display_data",
                    "data": {
                        "text/html": "Total execution time: 00:00:00.039"
                    },
                    "metadata": {}
                },
                {
                    "output_type": "execute_result",
                    "metadata": {},
                    "execution_count": 24,
                    "data": {
                        "application/vnd.dataresource+json": {
                            "schema": {
                                "fields": [
                                    {
                                        "name": "max"
                                    }
                                ]
                            },
                            "data": [
                                {
                                    "max": "Product 99"
                                }
                            ]
                        },
                        "text/html": [
                            "<table>",
                            "<tr><th>max</th></tr>",
                            "<tr><td>Product 99</td></tr>",
                            "</table>"
                        ]
                    }
                }
            ],
            "execution_count": 24
        },
        {
            "cell_type": "code",
            "source": [
                "SELECT MAX(CAST(TRIM(REPLACE(product_name, 'Product', '')) AS int)) as 'legnagyobb product id'\n",
                "FROM sql_recap.dbo.products\n",
                "WHERE category = 'Toys'"
            ],
            "metadata": {
                "azdata_cell_guid": "33deec1a-f629-41fd-b8d9-c7a6d53f2921",
                "language": "sql"
            },
            "outputs": [
                {
                    "output_type": "display_data",
                    "data": {
                        "text/html": "(1 row affected)"
                    },
                    "metadata": {}
                },
                {
                    "output_type": "display_data",
                    "data": {
                        "text/html": "Total execution time: 00:00:00.051"
                    },
                    "metadata": {}
                },
                {
                    "output_type": "execute_result",
                    "metadata": {},
                    "execution_count": 23,
                    "data": {
                        "application/vnd.dataresource+json": {
                            "schema": {
                                "fields": [
                                    {
                                        "name": "legnagyobb product id"
                                    }
                                ]
                            },
                            "data": [
                                {
                                    "legnagyobb product id": "199"
                                }
                            ]
                        },
                        "text/html": [
                            "<table>",
                            "<tr><th>legnagyobb product id</th></tr>",
                            "<tr><td>199</td></tr>",
                            "</table>"
                        ]
                    }
                }
            ],
            "execution_count": 23
        }
    ]
}