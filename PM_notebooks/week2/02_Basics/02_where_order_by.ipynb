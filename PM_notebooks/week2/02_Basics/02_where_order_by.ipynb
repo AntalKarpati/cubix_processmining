{
    "metadata": {
        "kernelspec": {
            "name": "SQL",
            "display_name": "SQL",
            "language": "sql"
        },
        "language_info": {
            "name": "sql",
            "version": ""
        }
    },
    "nbformat_minor": 2,
    "nbformat": 4,
    "cells": [
        {
            "cell_type": "markdown",
            "source": [
                "# Filtering, ordering"
            ],
            "metadata": {
                "azdata_cell_guid": "3781f039-014d-461b-99cb-769f83a5621e"
            },
            "attachments": {}
        },
        {
            "cell_type": "code",
            "source": [
                ""
            ],
            "metadata": {
                "azdata_cell_guid": "c62c358c-6cf0-4d5a-a919-83082ca8e5e6",
                "language": "sql"
            },
            "outputs": [],
            "execution_count": null
        }
    ]
}