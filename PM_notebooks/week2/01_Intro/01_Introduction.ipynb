{
    "metadata": {
        "kernelspec": {
            "name": "SQL",
            "display_name": "SQL",
            "language": "sql"
        },
        "language_info": {
            "name": "sql",
            "version": ""
        }
    },
    "nbformat_minor": 2,
    "nbformat": 4,
    "cells": [
        {
            "cell_type": "markdown",
            "source": [
                "# Introduction"
            ],
            "metadata": {
                "azdata_cell_guid": "7cd4f3dc-6c00-4a53-9e0a-9243d2a21cf0"
            },
            "attachments": {}
        },
        {
            "cell_type": "markdown",
            "source": [
                "[git összekötése PAT-el (opcionális)](https://www.youtube.com/watch?v=AW_U0q5BtFI&ab_channel=DatabaseStar)\n",
                "\n",
                "[Azure Data Studio tips and tricks](https://www.andrewvillazon.com/auzre-data-studio-tips-tricks/)"
            ],
            "metadata": {
                "azdata_cell_guid": "ac0ee839-23bf-4383-962b-b56305241e5b"
            },
            "attachments": {}
        },
        {
            "cell_type": "markdown",
            "source": [
                "- Az **Azure Data Studio** egy keresztplatformos adatbázis-kezelő eszköz, amelyet elsősorban SQL Server, Azure SQL Database és más kapcsolódó adatbázisok kezelésére terveztek. \n",
                "- Könnyen használható felületet biztosít az adatbázisok kezelésére, lekérdezések futtatására és adatmodellezésre, miközben támogatja a kiterjesztéseket és integrálódik különböző adatkezelési munkafolyamatokkal. \n",
                "- Az **Azure Data Studio** lehetőséget ad az SQL lekérdezések gyors írására, adatvizualizációk készítésére, valamint az adatbázisok felügyeletére, miközben modern fejlesztői funkciókkal, mint a forráskód-kezelés és verziókezelés is rendelkezik. \n",
                "- Az eszközt elsősorban adatbázis adminisztrátorok, fejlesztők és adatkutatók használják az adatkezelési és elemzési feladatok elvégzésére."
            ],
            "metadata": {
                "azdata_cell_guid": "b552b4d4-9138-4592-8ad2-6e2cad01a612"
            },
            "attachments": {}
        },
        {
            "cell_type": "markdown",
            "source": [
                "# Fogalom magyarázat:\n",
                "\n",
                "<span style=\"font-family: -apple-system, BlinkMacSystemFont, sans-serif; color: var(--vscode-foreground);\">1. </span> **Database (Adatbázis)**\n",
                "\n",
                "- **Definíció**: Az adatbázis egy logikai tároló, amely tartalmazza az összes adatot és struktúrát (táblák, nézetek, eljárások, stb.), amelyeket az adatkezeléshez használunk.\n",
                "- **Példa**: `company_db` - Az adatbázis tartalmazza a vállalat adatait, mint pl. alkalmazottak, termékek, tranzakciók.\n",
                "\n",
                "### 2\\. **Schema (Séma)**\n",
                "\n",
                "- **Definíció**: A séma az adatbázison belül egy strukturális elrendezést jelent, amely a táblák, nézetek, eljárások, stb. csoportosítását jelenti. Minden adatbázisnak lehet egy vagy több sémája.\n",
                "- **Példa**: `sales_schema` - Ebben a séma alatt tárolódnak a vállalat értékesítéssel kapcsolatos adatai.\n",
                "\n",
                "### 3\\. **Tábla (Table)**\n",
                "\n",
                "- **Definíció**: A tábla az adatbázisban a legfontosabb tárolási egység, amely sorokból és oszlopokból áll. Minden sor egy rekordot képvisel, minden oszlop egy mezőt.\n",
                "- **Példa**: `employees` - A tábla tartalmazza az alkalmazottak adatait, mint név, cím, pozíció.\n",
                "\n",
                "### 4\\. **View (Nézet)**\n",
                "\n",
                "- **Definíció**: A nézet egy virtuális tábla, amely egy előre meghatározott lekérdezés eredményeként jeleníti meg az adatokat. A nézetek nem tárolják az adatokat, hanem dinamikusan jelenítik meg őket a lekérdezés alapján.\n",
                "- **Példa**: `employee_salary_view` - A nézet összesíti az alkalmazottak nevét és fizetését, de nem tárolja el az adatokat.\n",
                "\n",
                "### 5\\. **Temporary View (Ideiglenes nézet)**\n",
                "\n",
                "- **Definíció**: Az ideiglenes nézetek csak a lekérdezés futtatása alatt léteznek, és nem tárolódnak el az adatbázisban. Általában ad hoc analízisekhez használják őket.\n",
                "- **Példa**: `temp_view` - A nézet csak az aktuális munkamenet alatt elérhető, és törlődik, amikor a kapcsolat lezárul."
            ],
            "metadata": {
                "azdata_cell_guid": "7ec4c629-a577-4a53-8c59-4c9702cd04d1"
            },
            "attachments": {}
        }
    ]
}