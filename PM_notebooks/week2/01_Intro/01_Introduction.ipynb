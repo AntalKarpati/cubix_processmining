{
    "metadata": {
        "kernelspec": {
            "name": "SQL",
            "display_name": "SQL",
            "language": "sql"
        },
        "language_info": {
            "name": "sql",
            "version": ""
        }
    },
    "nbformat_minor": 2,
    "nbformat": 4,
    "cells": [
        {
            "cell_type": "markdown",
            "source": [
                "# Introduction."
            ],
            "metadata": {
                "azdata_cell_guid": "7cd4f3dc-6c00-4a53-9e0a-9243d2a21cf0"
            },
            "attachments": {}
        },
        {
            "cell_type": "markdown",
            "source": [
                "[git összekötése PAT-el (opcionális)](https://www.youtube.com/watch?v=AW_U0q5BtFI&ab_channel=DatabaseStar)"
            ],
            "metadata": {
                "azdata_cell_guid": "ac0ee839-23bf-4383-962b-b56305241e5b"
            },
            "attachments": {}
        },
        {
            "cell_type": "code",
            "source": [
                "select year, total_count\n",
                "from(\n",
                "SELECT \n",
                "    country,\n",
                "    YEAR(signup_date) as year, \n",
                "    COUNT(*) AS total_count\n",
                "FROM \n",
                "    [sql_recap].[dbo].[customers] as c\n",
                "GROUP BY \n",
                "    country, YEAR(signup_date)\n",
                "HAVING\n",
                "    country = 'Hungary'  ) as sub\n",
                "  ;  \n",
                "\n",
                "\n",
                "--teszt komment\n",
                "--méggegy teszt komment\n",
                "-- teszt komment 3   \n",
                "-- kommetn 4 \n",
                "-- komment 5"
            ],
            "metadata": {
                "azdata_cell_guid": "374caa76-3901-4cb5-a0db-b40c22ee7452",
                "language": "sql"
            },
            "outputs": [
                {
                    "output_type": "display_data",
                    "data": {
                        "text/html": "(5 rows affected)"
                    },
                    "metadata": {}
                },
                {
                    "output_type": "display_data",
                    "data": {
                        "text/html": "Total execution time: 00:00:00.142"
                    },
                    "metadata": {}
                },
                {
                    "output_type": "execute_result",
                    "metadata": {
                        "azdata_chartOptions": {
                            "type": "line",
                            "dataDirection": "vertical",
                            "columnsAsLabels": true,
                            "labelFirstColumn": false,
                            "legendPosition": "top",
                            "dataType": "number"
                        }
                    },
                    "execution_count": 1,
                    "data": {
                        "application/vnd.dataresource+json": {
                            "schema": {
                                "fields": [
                                    {
                                        "name": "year"
                                    },
                                    {
                                        "name": "total_count"
                                    }
                                ]
                            },
                            "data": [
                                {
                                    "year": "2020",
                                    "total_count": "20"
                                },
                                {
                                    "year": "2021",
                                    "total_count": "10"
                                },
                                {
                                    "year": "2022",
                                    "total_count": "16"
                                },
                                {
                                    "year": "2023",
                                    "total_count": "19"
                                },
                                {
                                    "year": "2024",
                                    "total_count": "17"
                                }
                            ]
                        },
                        "text/html": [
                            "<table>",
                            "<tr><th>year</th><th>total_count</th></tr>",
                            "<tr><td>2020</td><td>20</td></tr>",
                            "<tr><td>2021</td><td>10</td></tr>",
                            "<tr><td>2022</td><td>16</td></tr>",
                            "<tr><td>2023</td><td>19</td></tr>",
                            "<tr><td>2024</td><td>17</td></tr>",
                            "</table>"
                        ]
                    }
                }
            ],
            "execution_count": 1
        },
        {
            "cell_type": "markdown",
            "source": [
                "task: write simple query"
            ],
            "metadata": {
                "language": "sql",
                "azdata_cell_guid": "d6c47a58-78da-4146-8153-b5f3801dd941"
            },
            "attachments": {}
        }
    ]
}