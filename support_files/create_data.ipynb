{
 "cells": [
  {
   "metadata": {
    "ExecuteTime": {
     "end_time": "2025-01-14T21:25:26.350279Z",
     "start_time": "2025-01-14T21:25:20.692993Z"
    }
   },
   "cell_type": "code",
   "source": "!pip install Faker",
   "id": "15198142b5634d80",
   "outputs": [
    {
     "name": "stdout",
     "output_type": "stream",
     "text": [
      "Collecting Faker\r\n",
      "  Obtaining dependency information for Faker from https://files.pythonhosted.org/packages/c2/01/6acc8b4dba4154cd93b444382a9ad3c099557aac577bdc7d66373e0a0c68/Faker-33.3.1-py3-none-any.whl.metadata\r\n",
      "  Downloading Faker-33.3.1-py3-none-any.whl.metadata (15 kB)\r\n",
      "Requirement already satisfied: python-dateutil>=2.4 in /Users/m0rz3n/PycharmProjects/cubix_processmining/script/lib/python3.9/site-packages (from Faker) (2.9.0.post0)\r\n",
      "Requirement already satisfied: typing-extensions in /Users/m0rz3n/PycharmProjects/cubix_processmining/script/lib/python3.9/site-packages (from Faker) (4.12.2)\r\n",
      "Requirement already satisfied: six>=1.5 in /Users/m0rz3n/PycharmProjects/cubix_processmining/script/lib/python3.9/site-packages (from python-dateutil>=2.4->Faker) (1.17.0)\r\n",
      "Downloading Faker-33.3.1-py3-none-any.whl (1.9 MB)\r\n",
      "\u001B[2K   \u001B[90m━━━━━━━━━━━━━━━━━━━━━━━━━━━━━━━━━━━━━━━━\u001B[0m \u001B[32m1.9/1.9 MB\u001B[0m \u001B[31m10.4 MB/s\u001B[0m eta \u001B[36m0:00:00\u001B[0m00:01\u001B[0m00:01\u001B[0m\r\n",
      "\u001B[?25hInstalling collected packages: Faker\r\n",
      "Successfully installed Faker-33.3.1\r\n",
      "\r\n",
      "\u001B[1m[\u001B[0m\u001B[34;49mnotice\u001B[0m\u001B[1;39;49m]\u001B[0m\u001B[39;49m A new release of pip is available: \u001B[0m\u001B[31;49m23.2.1\u001B[0m\u001B[39;49m -> \u001B[0m\u001B[32;49m24.3.1\u001B[0m\r\n",
      "\u001B[1m[\u001B[0m\u001B[34;49mnotice\u001B[0m\u001B[1;39;49m]\u001B[0m\u001B[39;49m To update, run: \u001B[0m\u001B[32;49mpip install --upgrade pip\u001B[0m\r\n"
     ]
    }
   ],
   "execution_count": 1
  },
  {
   "cell_type": "code",
   "id": "initial_id",
   "metadata": {
    "collapsed": true,
    "ExecuteTime": {
     "end_time": "2025-01-14T21:29:17.875284Z",
     "start_time": "2025-01-14T21:29:17.633254Z"
    }
   },
   "source": [
    "import csv\n",
    "import random\n",
    "from faker import Faker\n",
    "from datetime import datetime, timedelta\n",
    "\n",
    "fake = Faker()\n",
    "\n",
    "# Adatok generálása\n",
    "num_customers = 500\n",
    "num_products = 200\n",
    "num_orders = 3000\n",
    "\n",
    "# CSV fájlok írása\n",
    "# 1. customers.csv\n",
    "with open('./support_files/customers.csv', mode='w', newline='', encoding='utf-8') as file:\n",
    "    writer = csv.writer(file)\n",
    "    writer.writerow([\"customer_id\", \"name\", \"signup_date\", \"country\"])\n",
    "    for customer_id in range(1, num_customers + 1):\n",
    "        name = fake.name()\n",
    "        signup_date = fake.date_this_decade().strftime('%Y-%m-%d')\n",
    "        country = random.choice([\"Hungary\", \"USA\", \"Germany\", \"UK\", \"France\"])\n",
    "        writer.writerow([customer_id, name, signup_date, country])\n",
    "\n",
    "# 2. products.csv\n",
    "with open('./support_files/products.csv', mode='w', newline='', encoding='utf-8') as file:\n",
    "    writer = csv.writer(file)\n",
    "    writer.writerow([\"product_id\", \"product_name\", \"category\"])\n",
    "    for product_id in range(1, num_products + 1):\n",
    "        product_name = f\"Product {product_id}\"\n",
    "        category = random.choice([\"Electronics\", \"Furniture\", \"Clothing\", \"Books\", \"Toys\"])\n",
    "        writer.writerow([product_id, product_name, category])\n",
    "\n",
    "# 3. orders.csv\n",
    "with open('./support_files/orders.csv', mode='w', newline='', encoding='utf-8') as file:\n",
    "    writer = csv.writer(file)\n",
    "    writer.writerow([\"order_id\", \"customer_id\", \"order_date\", \"total_amount\"])\n",
    "    for order_id in range(1, num_orders + 1):\n",
    "        customer_id = random.randint(1, num_customers)\n",
    "        order_date = (datetime.today() - timedelta(days=random.randint(1, 365))).strftime('%Y-%m-%d')\n",
    "        total_amount = round(random.uniform(10.0, 500.0), 2)\n",
    "        writer.writerow([order_id, customer_id, order_date, total_amount])\n",
    "\n",
    "# 4. order_details.csv\n",
    "with open('./support_files/order_details.csv', mode='w', newline='', encoding='utf-8') as file:\n",
    "    writer = csv.writer(file)\n",
    "    writer.writerow([\"order_id\", \"product_id\", \"quantity\", \"price_per_unit\"])\n",
    "    for order_id in range(1, num_orders + 1):\n",
    "        num_items = random.randint(1, 5)\n",
    "        for _ in range(num_items):\n",
    "            product_id = random.randint(1, num_products)\n",
    "            quantity = random.randint(1, 3)\n",
    "            price_per_unit = round(random.uniform(5.0, 100.0), 2)\n",
    "            writer.writerow([order_id, product_id, quantity, price_per_unit])\n",
    "\n",
    "print(\"CSV fájlok sikeresen generálva!\")\n"
   ],
   "outputs": [
    {
     "ename": "FileNotFoundError",
     "evalue": "[Errno 2] No such file or directory: './support_files/customers.csv'",
     "output_type": "error",
     "traceback": [
      "\u001B[0;31m---------------------------------------------------------------------------\u001B[0m",
      "\u001B[0;31mFileNotFoundError\u001B[0m                         Traceback (most recent call last)",
      "Cell \u001B[0;32mIn[3], line 15\u001B[0m\n\u001B[1;32m     11\u001B[0m num_orders \u001B[38;5;241m=\u001B[39m \u001B[38;5;241m3000\u001B[39m\n\u001B[1;32m     13\u001B[0m \u001B[38;5;66;03m# CSV fájlok írása\u001B[39;00m\n\u001B[1;32m     14\u001B[0m \u001B[38;5;66;03m# 1. customers.csv\u001B[39;00m\n\u001B[0;32m---> 15\u001B[0m \u001B[38;5;28;01mwith\u001B[39;00m \u001B[38;5;28;43mopen\u001B[39;49m\u001B[43m(\u001B[49m\u001B[38;5;124;43m'\u001B[39;49m\u001B[38;5;124;43m./support_files/customers.csv\u001B[39;49m\u001B[38;5;124;43m'\u001B[39;49m\u001B[43m,\u001B[49m\u001B[43m \u001B[49m\u001B[43mmode\u001B[49m\u001B[38;5;241;43m=\u001B[39;49m\u001B[38;5;124;43m'\u001B[39;49m\u001B[38;5;124;43mw\u001B[39;49m\u001B[38;5;124;43m'\u001B[39;49m\u001B[43m,\u001B[49m\u001B[43m \u001B[49m\u001B[43mnewline\u001B[49m\u001B[38;5;241;43m=\u001B[39;49m\u001B[38;5;124;43m'\u001B[39;49m\u001B[38;5;124;43m'\u001B[39;49m\u001B[43m,\u001B[49m\u001B[43m \u001B[49m\u001B[43mencoding\u001B[49m\u001B[38;5;241;43m=\u001B[39;49m\u001B[38;5;124;43m'\u001B[39;49m\u001B[38;5;124;43mutf-8\u001B[39;49m\u001B[38;5;124;43m'\u001B[39;49m\u001B[43m)\u001B[49m \u001B[38;5;28;01mas\u001B[39;00m file:\n\u001B[1;32m     16\u001B[0m     writer \u001B[38;5;241m=\u001B[39m csv\u001B[38;5;241m.\u001B[39mwriter(file)\n\u001B[1;32m     17\u001B[0m     writer\u001B[38;5;241m.\u001B[39mwriterow([\u001B[38;5;124m\"\u001B[39m\u001B[38;5;124mcustomer_id\u001B[39m\u001B[38;5;124m\"\u001B[39m, \u001B[38;5;124m\"\u001B[39m\u001B[38;5;124mname\u001B[39m\u001B[38;5;124m\"\u001B[39m, \u001B[38;5;124m\"\u001B[39m\u001B[38;5;124msignup_date\u001B[39m\u001B[38;5;124m\"\u001B[39m, \u001B[38;5;124m\"\u001B[39m\u001B[38;5;124mcountry\u001B[39m\u001B[38;5;124m\"\u001B[39m])\n",
      "File \u001B[0;32m~/PycharmProjects/cubix_processmining/script/lib/python3.9/site-packages/IPython/core/interactiveshell.py:310\u001B[0m, in \u001B[0;36m_modified_open\u001B[0;34m(file, *args, **kwargs)\u001B[0m\n\u001B[1;32m    303\u001B[0m \u001B[38;5;28;01mif\u001B[39;00m file \u001B[38;5;129;01min\u001B[39;00m {\u001B[38;5;241m0\u001B[39m, \u001B[38;5;241m1\u001B[39m, \u001B[38;5;241m2\u001B[39m}:\n\u001B[1;32m    304\u001B[0m     \u001B[38;5;28;01mraise\u001B[39;00m \u001B[38;5;167;01mValueError\u001B[39;00m(\n\u001B[1;32m    305\u001B[0m         \u001B[38;5;124mf\u001B[39m\u001B[38;5;124m\"\u001B[39m\u001B[38;5;124mIPython won\u001B[39m\u001B[38;5;124m'\u001B[39m\u001B[38;5;124mt let you open fd=\u001B[39m\u001B[38;5;132;01m{\u001B[39;00mfile\u001B[38;5;132;01m}\u001B[39;00m\u001B[38;5;124m by default \u001B[39m\u001B[38;5;124m\"\u001B[39m\n\u001B[1;32m    306\u001B[0m         \u001B[38;5;124m\"\u001B[39m\u001B[38;5;124mas it is likely to crash IPython. If you know what you are doing, \u001B[39m\u001B[38;5;124m\"\u001B[39m\n\u001B[1;32m    307\u001B[0m         \u001B[38;5;124m\"\u001B[39m\u001B[38;5;124myou can use builtins\u001B[39m\u001B[38;5;124m'\u001B[39m\u001B[38;5;124m open.\u001B[39m\u001B[38;5;124m\"\u001B[39m\n\u001B[1;32m    308\u001B[0m     )\n\u001B[0;32m--> 310\u001B[0m \u001B[38;5;28;01mreturn\u001B[39;00m \u001B[43mio_open\u001B[49m\u001B[43m(\u001B[49m\u001B[43mfile\u001B[49m\u001B[43m,\u001B[49m\u001B[43m \u001B[49m\u001B[38;5;241;43m*\u001B[39;49m\u001B[43margs\u001B[49m\u001B[43m,\u001B[49m\u001B[43m \u001B[49m\u001B[38;5;241;43m*\u001B[39;49m\u001B[38;5;241;43m*\u001B[39;49m\u001B[43mkwargs\u001B[49m\u001B[43m)\u001B[49m\n",
      "\u001B[0;31mFileNotFoundError\u001B[0m: [Errno 2] No such file or directory: './support_files/customers.csv'"
     ]
    }
   ],
   "execution_count": 3
  },
  {
   "metadata": {
    "ExecuteTime": {
     "end_time": "2025-01-14T21:30:47.662771Z",
     "start_time": "2025-01-14T21:30:47.652361Z"
    }
   },
   "cell_type": "code",
   "source": [
    "import os\n",
    "print(\"Aktuális munkakönyvtár:\", os.getcwd())"
   ],
   "id": "5cd2d5206d3a9c60",
   "outputs": [
    {
     "name": "stdout",
     "output_type": "stream",
     "text": [
      "Aktuális munkakönyvtár: /Users/m0rz3n/PycharmProjects/cubix_processmining/support_files\n"
     ]
    }
   ],
   "execution_count": 5
  },
  {
   "metadata": {},
   "cell_type": "code",
   "outputs": [],
   "execution_count": null,
   "source": "",
   "id": "b8bda4c3c3778d0e"
  }
 ],
 "metadata": {
  "kernelspec": {
   "display_name": "Python 3",
   "language": "python",
   "name": "python3"
  },
  "language_info": {
   "codemirror_mode": {
    "name": "ipython",
    "version": 2
   },
   "file_extension": ".py",
   "mimetype": "text/x-python",
   "name": "python",
   "nbconvert_exporter": "python",
   "pygments_lexer": "ipython2",
   "version": "2.7.6"
  }
 },
 "nbformat": 4,
 "nbformat_minor": 5
}
